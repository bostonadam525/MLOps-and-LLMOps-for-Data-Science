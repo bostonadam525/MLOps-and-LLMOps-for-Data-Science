{
  "nbformat": 4,
  "nbformat_minor": 0,
  "metadata": {
    "colab": {
      "provenance": []
    },
    "kernelspec": {
      "name": "python3",
      "display_name": "Python 3"
    },
    "language_info": {
      "name": "python"
    }
  },
  "cells": [
    {
      "cell_type": "markdown",
      "source": [
        "# LLM Trace Logging with Opik\n",
        "* Notebook completed by Adam Lang\n",
        "* This was part of the Opik open source course on using Opik for LLM observability.\n",
        "* Date: 3/25/2025"
      ],
      "metadata": {
        "id": "ygpLazg1_r85"
      }
    },
    {
      "cell_type": "markdown",
      "source": [
        "# Overview\n",
        "* Here is how to implement trace logging using Opik and Open AI"
      ],
      "metadata": {
        "id": "Ne60h-_o_2s7"
      }
    },
    {
      "cell_type": "markdown",
      "source": [
        "## Install dependencies"
      ],
      "metadata": {
        "id": "MFxJ4yOF_7hO"
      }
    },
    {
      "cell_type": "code",
      "execution_count": 1,
      "metadata": {
        "id": "OOc-YpLg_nO8"
      },
      "outputs": [],
      "source": [
        "%%capture\n",
        "!pip install opik openai python-dotenv"
      ]
    },
    {
      "cell_type": "markdown",
      "source": [
        "## Configure Opik\n",
        "* Uncomment code below if using the self hosting version. Otherwise do not run this cell below."
      ],
      "metadata": {
        "id": "6-KFjoYEPbXF"
      }
    },
    {
      "cell_type": "code",
      "source": [
        "# import opik\n",
        "# opik.configure(use_local=False)"
      ],
      "metadata": {
        "id": "XnOJAv9rPYYN"
      },
      "execution_count": null,
      "outputs": []
    },
    {
      "cell_type": "code",
      "source": [
        "import os\n",
        "from getpass import getpass\n",
        "\n",
        "OPENAI_API_KEY = getpass(\"Enter Open AI API key: \")"
      ],
      "metadata": {
        "colab": {
          "base_uri": "https://localhost:8080/"
        },
        "id": "ahrcRHaFaa_B",
        "outputId": "b22387bf-cc49-4550-cd11-491f23997e31"
      },
      "execution_count": 2,
      "outputs": [
        {
          "name": "stdout",
          "output_type": "stream",
          "text": [
            "Enter Open AI API key: ··········\n"
          ]
        }
      ]
    },
    {
      "cell_type": "code",
      "source": [
        "## set open ai env variable\n",
        "os.environ['OPENAI_API_KEY'] = OPENAI_API_KEY"
      ],
      "metadata": {
        "id": "AxxYbABCaa2q"
      },
      "execution_count": 3,
      "outputs": []
    },
    {
      "cell_type": "code",
      "source": [
        "## enter opik api key\n",
        "OPIK_API_KEY = getpass(\"Enter you OPIK API Key: \")"
      ],
      "metadata": {
        "colab": {
          "base_uri": "https://localhost:8080/"
        },
        "id": "zDh39aCJcgTA",
        "outputId": "8f0a6d1f-37ec-45f5-90cf-29433ffc70b5"
      },
      "execution_count": 5,
      "outputs": [
        {
          "name": "stdout",
          "output_type": "stream",
          "text": [
            "Enter you OPIK API Key: ··········\n"
          ]
        }
      ]
    },
    {
      "cell_type": "code",
      "source": [
        "## set opik env variable\n",
        "os.environ['OPIK_API_KEY'] = OPIK_API_KEY"
      ],
      "metadata": {
        "id": "_JC1W05tcgPH"
      },
      "execution_count": 6,
      "outputs": []
    },
    {
      "cell_type": "code",
      "source": [
        "## set opik workspace\n",
        "OPIK_WORKSPACE = getpass(\"Enter your OPIK workspace: \")"
      ],
      "metadata": {
        "colab": {
          "base_uri": "https://localhost:8080/"
        },
        "id": "EOAE2DPgc2Yx",
        "outputId": "fa96f7e1-dff0-4e74-cbbe-99668ccc7e4e"
      },
      "execution_count": 7,
      "outputs": [
        {
          "name": "stdout",
          "output_type": "stream",
          "text": [
            "Enter your OPIK workspace: ··········\n"
          ]
        }
      ]
    },
    {
      "cell_type": "code",
      "source": [
        "## set opik workspace\n",
        "os.environ['OPIK_WORKSPACE'] = OPIK_WORKSPACE"
      ],
      "metadata": {
        "id": "xTGeWxmXc2Rf"
      },
      "execution_count": 8,
      "outputs": []
    },
    {
      "cell_type": "markdown",
      "source": [
        "# Tracking Open AI LLM Calls\n"
      ],
      "metadata": {
        "id": "7c9keN9mPijM"
      }
    },
    {
      "cell_type": "code",
      "source": [
        "from opik.integrations.openai import track_openai\n",
        "from openai import OpenAI\n",
        "import os\n",
        "#from dotenv import load_dotenv\n",
        "\n",
        "\n",
        "# set opik project name\n",
        "os.environ['TEST_PROJECT'] = \"Test\"\n",
        "\n",
        "\n",
        "## open ai client\n",
        "openai_client = OpenAI(api_key=OPENAI_API_KEY)\n",
        "openai_client = track_openai(openai_client)\n",
        "\n",
        "## opik client set\n",
        "os.environ[\"OPIK_API_KEY\"] = OPIK_API_KEY\n",
        "os.environ[\"OPIK_WORKSPACE\"] = OPIK_WORKSPACE\n",
        "\n",
        "## prompt test\n",
        "prompt = \"Write a haiku about AI engineering.\"\n",
        "\n",
        "## response\n",
        "response = openai_client.chat.completions.create(\n",
        "    model=\"gpt-3.5-turbo\",\n",
        "    messages=[\n",
        "        {\"role\":\"user\", \"content\": prompt}\n",
        "    ],\n",
        "    temperature=0.7,\n",
        "    max_tokens=100,\n",
        "    #top_p=1,\n",
        "    frequency_penalty=0,\n",
        "    presence_penalty=0,\n",
        ")\n",
        "print(response.choices[0].message.content)"
      ],
      "metadata": {
        "colab": {
          "base_uri": "https://localhost:8080/"
        },
        "id": "ChZdNgZ3Plef",
        "outputId": "fb51a5ba-3b03-433f-c955-a32d5c3930a9"
      },
      "execution_count": 17,
      "outputs": [
        {
          "output_type": "stream",
          "name": "stdout",
          "text": [
            "Coding minds at work\n",
            "AI engineering thrives\n",
            "Innovation lives\n"
          ]
        }
      ]
    },
    {
      "cell_type": "code",
      "source": [],
      "metadata": {
        "id": "QvSxSuOUd82l"
      },
      "execution_count": null,
      "outputs": []
    }
  ]
}