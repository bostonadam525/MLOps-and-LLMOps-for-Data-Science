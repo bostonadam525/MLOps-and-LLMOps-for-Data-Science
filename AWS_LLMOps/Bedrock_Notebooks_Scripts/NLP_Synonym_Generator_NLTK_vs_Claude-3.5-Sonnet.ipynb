{
 "cells": [
  {
   "cell_type": "markdown",
   "metadata": {
    "id": "lLfHxPMjuwuj"
   },
   "source": [
    "# NLP Synonym Generator: NLTK with WordNet vs. Claude-3.5-Sonnet\n",
    "* Notebook by Adam Lang\n",
    "* Date: 2/19/2025"
   ]
  },
  {
   "cell_type": "markdown",
   "metadata": {},
   "source": [
    "# Overview\n",
    "* This is a head to head experiment of a static synonym generator using WordNet with NLTK vs. Claude-3.5-Sonnet on AWS Bedrock. "
   ]
  },
  {
   "cell_type": "markdown",
   "metadata": {
    "id": "DkxZUNxvu1OW"
   },
   "source": [
    "# Demo 1 - WordNet API\n",
    "* WordNet is a large lexical database of English.\n",
    "  * Link: https://wordnet.princeton.edu/\n",
    "* You can use the NLTK (Natural Language Toolkit) library in Python to freely access WordNet and retrieve synonyms.\n",
    "\n",
    "## Advantages\n",
    "* WordNet is multilingual and used world wide.\n",
    "* Easy to access via nltk library.\n",
    "\n",
    "## Disadvantages\n",
    "* \"Static\" -- only based on what is in the current corpus (similar to a dictionary lookup).\n",
    "* Lack of semantic and contextual understanding."
   ]
  },
  {
   "cell_type": "code",
   "execution_count": 1,
   "metadata": {
    "id": "_DzSCFzkunbR"
   },
   "outputs": [],
   "source": [
    "%%capture\n",
    "!pip install nltk"
   ]
  },
  {
   "cell_type": "code",
   "execution_count": 2,
   "metadata": {
    "colab": {
     "base_uri": "https://localhost:8080/"
    },
    "id": "W4D_eTFUu8pE",
    "outputId": "4f73c4bb-60a7-4f12-a998-75bfe505cb20"
   },
   "outputs": [
    {
     "data": {
      "text/plain": [
       "True"
      ]
     },
     "execution_count": 2,
     "metadata": {},
     "output_type": "execute_result"
    }
   ],
   "source": [
    "from IPython.display import Markdown, display\n",
    "import nltk\n",
    "from nltk.corpus import wordnet\n",
    "\n",
    "# Download WordNet data\n",
    "nltk.download('wordnet', quiet=True)"
   ]
  },
  {
   "cell_type": "markdown",
   "metadata": {
    "id": "HGQ_fDR5v8jZ"
   },
   "source": [
    "Note:\n",
    "* Below you can change the default `n=5` to any number you want.\n",
    "* I printed the results in Markdown but you can also print it in a list or array."
   ]
  },
  {
   "cell_type": "code",
   "execution_count": 52,
   "metadata": {
    "colab": {
     "base_uri": "https://localhost:8080/",
     "height": 269
    },
    "id": "98lvPK7UvHxr",
    "outputId": "645f63b6-eced-477d-e256-73e5af013ebe"
   },
   "outputs": [
    {
     "data": {
      "text/markdown": [
       "## Synonyms for innovation\n",
       "Here are some synonyms for the word **innovation**:\n",
       "\n",
       "- founding\n",
       "- conception\n",
       "- creation\n",
       "- design\n",
       "- excogitation\n",
       "- introduction\n",
       "- foundation\n",
       "- origination\n",
       "- instauration\n",
       "- invention"
      ],
      "text/plain": [
       "<IPython.core.display.Markdown object>"
      ]
     },
     "metadata": {},
     "output_type": "display_data"
    }
   ],
   "source": [
    "## keyword synonyms\n",
    "def get_synonyms(word, n=10):\n",
    "    synonyms = []\n",
    "    for syn in wordnet.synsets(word):\n",
    "        for lemma in syn.lemmas():\n",
    "            if lemma.name() != word:\n",
    "                synonyms.append(lemma.name())\n",
    "    return list(set(synonyms))[:n]\n",
    "\n",
    "\n",
    "# Example usage with `innovation\n",
    "word = \"innovation\"\n",
    "synonyms = get_synonyms(word)\n",
    "## print list of synonyms\n",
    "#print(f\"Synonyms for {word}: {synonyms}\")\n",
    "\n",
    "\n",
    "\n",
    "# Print synonyms in Markdown format\n",
    "display(Markdown(f\"## Synonyms for {word}\\nHere are some synonyms for the word **{word}**:\\n\\n- \" + \"\\n- \".join(synonyms)))"
   ]
  },
  {
   "cell_type": "code",
   "execution_count": 53,
   "metadata": {},
   "outputs": [
    {
     "data": {
      "text/markdown": [
       "## Synonyms for innovation and creativity\n",
       "Here are some synonyms for the word **innovation and creativity**:\n",
       "\n",
       "- "
      ],
      "text/plain": [
       "<IPython.core.display.Markdown object>"
      ]
     },
     "metadata": {},
     "output_type": "display_data"
    }
   ],
   "source": [
    "# Example usage with `innovation\n",
    "word = \"innovation and creativity\"\n",
    "synonyms = get_synonyms(word)\n",
    "## print list of synonyms\n",
    "#print(f\"Synonyms for {word}: {synonyms}\")\n",
    "\n",
    "\n",
    "\n",
    "# Print synonyms in Markdown format\n",
    "display(Markdown(f\"## Synonyms for {word}\\nHere are some synonyms for the word **{word}**:\\n\\n- \" + \"\\n- \".join(synonyms)))"
   ]
  },
  {
   "cell_type": "markdown",
   "metadata": {},
   "source": [
    "### Summary\n",
    "* Note above that I tried using 3 words or a trigram and it doesnt work.\n",
    "* Obviously if you assume people will only enter 1 word, but what if its more than that? You will see below that Claude can handle this with ease.\n",
    "* Now we could fix the NLTK implementation above by simply adding support for n-grams for n=2, n=3, etc. but again remember this is static!"
   ]
  },
  {
   "cell_type": "code",
   "execution_count": 4,
   "metadata": {
    "colab": {
     "base_uri": "https://localhost:8080/",
     "height": 269
    },
    "id": "K1QbeJHG4LWw",
    "outputId": "7a4d446a-3763-4954-94f0-1d598d8fc976"
   },
   "outputs": [
    {
     "data": {
      "text/markdown": [
       "## Synonyms for respect\n",
       "Here are some synonyms for the word **respect**:\n",
       "\n",
       "- deference\n",
       "- respectfulness\n",
       "- obedience\n",
       "- honor\n",
       "- regard\n",
       "- prise\n",
       "- honour\n",
       "- observe\n",
       "- prize\n",
       "- esteem"
      ],
      "text/plain": [
       "<IPython.core.display.Markdown object>"
      ]
     },
     "metadata": {},
     "output_type": "display_data"
    }
   ],
   "source": [
    "# 2. Example using `Respect`\n",
    "word = \"respect\"\n",
    "synonyms = get_synonyms(word)\n",
    "## print list of synonyms\n",
    "#print(f\"Synonyms for {word}: {synonyms}\")\n",
    "\n",
    "# Print synonyms in Markdown format\n",
    "display(Markdown(f\"## Synonyms for {word}\\nHere are some synonyms for the word **{word}**:\\n\\n- \" + \"\\n- \".join(synonyms)))"
   ]
  },
  {
   "cell_type": "code",
   "execution_count": 5,
   "metadata": {
    "colab": {
     "base_uri": "https://localhost:8080/",
     "height": 200
    },
    "id": "F2YLxDzV4LUL",
    "outputId": "1b20654e-6b1c-4a50-a2b1-d3195c7d6aff"
   },
   "outputs": [
    {
     "data": {
      "text/markdown": [
       "## Synonyms for AI\n",
       "Here are some synonyms for the word **AI**:\n",
       "\n",
       "- artificial_intelligence\n",
       "- Bradypus_tridactylus\n",
       "- ai\n",
       "- Army_Intelligence\n",
       "- artificial_insemination\n",
       "- three-toed_sloth"
      ],
      "text/plain": [
       "<IPython.core.display.Markdown object>"
      ]
     },
     "metadata": {},
     "output_type": "display_data"
    }
   ],
   "source": [
    "# 3. Example using `AI`\n",
    "word = \"AI\"\n",
    "synonyms = get_synonyms(word)\n",
    "## print list of synonyms\n",
    "#print(f\"Synonyms for {word}: {synonyms}\")\n",
    "\n",
    "# Print synonyms in Markdown format\n",
    "display(Markdown(f\"## Synonyms for {word}\\nHere are some synonyms for the word **{word}**:\\n\\n- \" + \"\\n- \".join(synonyms)))"
   ]
  },
  {
   "cell_type": "markdown",
   "metadata": {
    "id": "HY3qjSwn5KIv"
   },
   "source": [
    "## Summary for WordNet Approach\n",
    "* Obviously this is the problem with this \"static solution\" for acronyms and abbreviations like \"AI\" since it does not leverage embeddings it has no semantic context."
   ]
  },
  {
   "cell_type": "markdown",
   "metadata": {
    "id": "6NszSKl719gS"
   },
   "source": [
    "# Demo 2 - Claude on AWS Bedrock\n",
    "\n",
    "## Advantages of using Claude\n",
    "\n",
    "1. **Context-Aware**\n",
    "    * Claude can understand context and provide synonyms that are more relevant to the intended meaning of the word.\n",
    "    * Bedrock foundation models like Claude can also handle n-grams of n+1 and still return 1 word. We could modify the prompt as needed.\n",
    "\n",
    "2. **Flexibility**\n",
    "    * It can handle a wide range of words, including less common terms, technical jargon, and even phrases.\n",
    "\n",
    "3. **Up-to-date**\n",
    "    * As Claude is regularly updated, it can provide synonyms for newer terms or evolving language usage.\n",
    "\n",
    "4. **Customizable**\n",
    "    * You can adjust the prompt to get more specific results, e.g., asking for formal synonyms, colloquial synonyms, or synonyms in a particular field.\n",
    "\n",
    "5. **Scalable**\n",
    "    * Amazon Bedrock is designed to handle large-scale applications, so this solution can easily scale with your needs.\n",
    "\n",
    "\n",
    "## Disadvantages of using Claude\n",
    "* This method may incur costs based on AWS Bedrock usage. However, if you calculate token inputs and cost per token its probably minimal.\n",
    "* The quality of synonyms can vary and may sometimes include related words rather than strict synonyms. You might want to add some post-processing to filter results if needed.\n",
    "* Response time might be slightly longer compared to dictionary-based methods, but it offers more flexibility and potentially better contextual understanding."
   ]
  },
  {
   "cell_type": "code",
   "execution_count": 6,
   "metadata": {
    "id": "yWVLVRic-s4j"
   },
   "outputs": [],
   "source": [
    "%%capture\n",
    "!pip install boto3"
   ]
  },
  {
   "cell_type": "code",
   "execution_count": 28,
   "metadata": {},
   "outputs": [],
   "source": [
    "import boto3\n",
    "import json\n",
    "import asyncio\n",
    "import random\n",
    "from botocore.exceptions import ClientError\n",
    "import nest_asyncio\n",
    "from IPython.display import display, Markdown\n",
    "\n",
    "## async API calls to bedrock\n",
    "nest_asyncio.apply()"
   ]
  },
  {
   "cell_type": "code",
   "execution_count": 8,
   "metadata": {},
   "outputs": [],
   "source": [
    "# Set up Bedrock client\n",
    "bedrock = boto3.client(\n",
    "    service_name='bedrock-runtime',\n",
    "    region_name='<your AWS region here>'  # Replace with your region\n",
    ")"
   ]
  },
  {
   "cell_type": "code",
   "execution_count": null,
   "metadata": {},
   "outputs": [],
   "source": [
    "## init boto session\n",
    "session = boto3.Session()\n",
    "credentials = session.get_credentials()\n",
    "print(f\"Access Key: {credentials.access_key}\")\n",
    "print(f\"Secret Key: {'*' * len(credentials.secret_key)}\")\n",
    "print(f\"Region: {session.region_name}\")"
   ]
  },
  {
   "cell_type": "markdown",
   "metadata": {},
   "source": [
    "## Class to run API call to Claude on AWS Bedrock\n",
    "* Notes:\n",
    "1. You can change the `n`, right now i have it set to 5. If you want to change it go to this method in the class:\n",
    "   * `async def get_synonyms_claude(self, word, n=5):`\n",
    "2. I set the model `temperature` at 0.5 to introduce some probabilistic or randomness but you can reduce this closer to 0 to make it more deterministic and move it closer to 1 to make it more diverse."
   ]
  },
  {
   "cell_type": "code",
   "execution_count": 44,
   "metadata": {},
   "outputs": [],
   "source": [
    "class SynonymsWithClaude:\n",
    "    def __init__(self, region_name='<your AWS region here>'):\n",
    "        self.bedrock = boto3.client('bedrock-runtime', region_name=region_name)\n",
    "        self.model_id = 'anthropic.claude-3-5-sonnet-20240620-v1:0'\n",
    "\n",
    "    async def invoke_with_retry(self, body, max_retries=5, initial_delay=1):\n",
    "        for attempt in range(max_retries):\n",
    "            try:\n",
    "                response = await asyncio.to_thread(\n",
    "                    self.bedrock.invoke_model,\n",
    "                    modelId=self.model_id,\n",
    "                    body=body\n",
    "                )\n",
    "                return response\n",
    "            except ClientError as e:\n",
    "                if e.response['Error']['Code'] == 'ThrottlingException':\n",
    "                    delay = (2 ** attempt) + random.uniform(0, 1)\n",
    "                    print(f\"Request throttled. Retrying in {delay:.2f} seconds...\")\n",
    "                    await asyncio.sleep(delay)\n",
    "                else:\n",
    "                    raise\n",
    "        raise Exception(\"Max retries reached\")\n",
    "\n",
    "    async def get_synonyms_claude(self, word, n=5):\n",
    "        prompt = f\"\"\"Generate {n} synonyms for the word \"{word}\".\n",
    "        Provide only the synonyms as a comma-separated list, without any additional text or explanation.\"\"\"\n",
    "\n",
    "        body = json.dumps({\n",
    "            \"anthropic_version\": \"bedrock-2023-05-31\",\n",
    "            \"max_tokens\": 150,\n",
    "            \"messages\": [{\"role\": \"user\", \"content\": prompt}],\n",
    "            \"temperature\": 0.5,\n",
    "            \"top_p\": 1,\n",
    "        })\n",
    "\n",
    "        try:\n",
    "            response = await self.invoke_with_retry(body)\n",
    "            response_body = json.loads(response['body'].read())\n",
    "            synonyms = response_body['content'][0]['text'].strip().split(', ')\n",
    "            # Normalize capitalization\n",
    "            synonyms = [syn.lower() for syn in synonyms]\n",
    "            return synonyms[:n]  # Ensure we return at most n synonyms\n",
    "        except Exception as e:\n",
    "            print(f\"Error in API call: {str(e)}\")\n",
    "            return []\n",
    "\n",
    "    async def display_synonyms(self, word):\n",
    "        synonyms = await self.get_synonyms_claude(word)\n",
    "        markdown_output = f\"## Synonyms for \\\"{word}\\\"\\n\\n\" + \"\\n\".join(f\"- {synonym}\" for synonym in synonyms)\n",
    "        display(Markdown(markdown_output))\n",
    "\n"
   ]
  },
  {
   "cell_type": "code",
   "execution_count": 46,
   "metadata": {},
   "outputs": [
    {
     "data": {
      "text/markdown": [
       "## Synonyms for \"innovation\"\n",
       "\n",
       "- advancement\n",
       "- breakthrough\n",
       "- invention\n",
       "- modernization\n",
       "- novelty"
      ],
      "text/plain": [
       "<IPython.core.display.Markdown object>"
      ]
     },
     "metadata": {},
     "output_type": "display_data"
    }
   ],
   "source": [
    "# Create an instance of the class\n",
    "synonym_generator = SynonymsWithClaude()\n",
    "\n",
    "## Example 1 - \"innovation\"\n",
    "word = \"innovation\"\n",
    "await synonym_generator.display_synonyms(word)"
   ]
  },
  {
   "cell_type": "code",
   "execution_count": 47,
   "metadata": {},
   "outputs": [
    {
     "data": {
      "text/markdown": [
       "## Synonyms for \"respect\"\n",
       "\n",
       "- admiration\n",
       "- esteem\n",
       "- regard\n",
       "- reverence\n",
       "- deference"
      ],
      "text/plain": [
       "<IPython.core.display.Markdown object>"
      ]
     },
     "metadata": {},
     "output_type": "display_data"
    }
   ],
   "source": [
    "## Example #2 -- \"Respect\"\n",
    "word = \"respect\"\n",
    "await synonym_generator.display_synonyms(word)"
   ]
  },
  {
   "cell_type": "code",
   "execution_count": 49,
   "metadata": {},
   "outputs": [
    {
     "data": {
      "text/markdown": [
       "## Synonyms for \"AI\"\n",
       "\n",
       "- artificial intelligence\n",
       "- machine intelligence\n",
       "- cognitive computing\n",
       "- smart technology\n",
       "- intelligent systems"
      ],
      "text/plain": [
       "<IPython.core.display.Markdown object>"
      ]
     },
     "metadata": {},
     "output_type": "display_data"
    }
   ],
   "source": [
    "## Example #3 -- \"AI\"\n",
    "word = \"AI\"\n",
    "await synonym_generator.display_synonyms(word)"
   ]
  },
  {
   "cell_type": "code",
   "execution_count": 51,
   "metadata": {},
   "outputs": [
    {
     "data": {
      "text/markdown": [
       "## Synonyms for \"innovation and creativity\"\n",
       "\n",
       "- ingenuity\n",
       "- originality\n",
       "- inventiveness\n",
       "- imagination\n",
       "- resourcefulness"
      ],
      "text/plain": [
       "<IPython.core.display.Markdown object>"
      ]
     },
     "metadata": {},
     "output_type": "display_data"
    }
   ],
   "source": [
    "## Example #4 -- \"AI and ML\"\n",
    "word = \"innovation and creativity\"\n",
    "await synonym_generator.display_synonyms(word)"
   ]
  },
  {
   "cell_type": "markdown",
   "metadata": {},
   "source": [
    "## Summary for Claude \n",
    "* We can see that \"AI\" was better handled here since its an LLM with a large context window and not a static corpus like WordNet."
   ]
  },
  {
   "cell_type": "code",
   "execution_count": null,
   "metadata": {},
   "outputs": [],
   "source": []
  }
 ],
 "metadata": {
  "colab": {
   "provenance": []
  },
  "kernelspec": {
   "display_name": "Python 3 (ipykernel)",
   "language": "python",
   "name": "python3"
  },
  "language_info": {
   "codemirror_mode": {
    "name": "ipython",
    "version": 3
   },
   "file_extension": ".py",
   "mimetype": "text/x-python",
   "name": "python",
   "nbconvert_exporter": "python",
   "pygments_lexer": "ipython3",
   "version": "3.12.2"
  }
 },
 "nbformat": 4,
 "nbformat_minor": 4
}
