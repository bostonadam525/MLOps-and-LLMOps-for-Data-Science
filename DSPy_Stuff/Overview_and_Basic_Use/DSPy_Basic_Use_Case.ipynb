{
  "nbformat": 4,
  "nbformat_minor": 0,
  "metadata": {
    "colab": {
      "provenance": []
    },
    "kernelspec": {
      "name": "python3",
      "display_name": "Python 3"
    },
    "language_info": {
      "name": "python"
    }
  },
  "cells": [
    {
      "cell_type": "markdown",
      "source": [
        "# DSPy Basic Use Case Example\n",
        "* Notebook by Adam Lang\n",
        "* Date: 4/6/2025\n",
        "\n",
        "# Overview\n",
        "* DSPy is a really cool framework for programming—rather than prompting—language models that came out of Stanford University.\n",
        "* It allows you to iterate faster and build more modular AI systems."
      ],
      "metadata": {
        "id": "aJvcbeQOaTGt"
      }
    },
    {
      "cell_type": "markdown",
      "source": [
        "# Install Dependencies"
      ],
      "metadata": {
        "id": "rqsP11rAajuf"
      }
    },
    {
      "cell_type": "code",
      "execution_count": 13,
      "metadata": {
        "id": "OGyJuFCmaLId"
      },
      "outputs": [],
      "source": [
        "%%capture\n",
        "!pip install dspy-ai"
      ]
    },
    {
      "cell_type": "code",
      "source": [
        "%%capture\n",
        "!pip install openai"
      ],
      "metadata": {
        "id": "NWdGQ3oubjii"
      },
      "execution_count": 14,
      "outputs": []
    },
    {
      "cell_type": "code",
      "source": [
        "## load libraries\n",
        "import os\n",
        "import openai\n",
        "## dspy imports\n",
        "import dspy\n",
        "from dspy import (\n",
        "    Signature,\n",
        "    Predict,\n",
        "    settings\n",
        ")\n",
        "## turn off warnings\n",
        "import warnings\n",
        "warnings.filterwarnings(\"ignore\")"
      ],
      "metadata": {
        "id": "Vq-X9QnPbOxq"
      },
      "execution_count": null,
      "outputs": []
    },
    {
      "cell_type": "markdown",
      "source": [
        "# Setup OpenAI Environment"
      ],
      "metadata": {
        "id": "HAO2RiLFb5q8"
      }
    },
    {
      "cell_type": "code",
      "source": [
        "import os\n",
        "from getpass import getpass\n",
        "\n",
        "OPENAI_API_KEY = getpass(\"Enter your Open AI API key: \")"
      ],
      "metadata": {
        "colab": {
          "base_uri": "https://localhost:8080/"
        },
        "id": "SW9OmDnOb4Jq",
        "outputId": "d9942097-70ea-49b6-a61e-363292131243"
      },
      "execution_count": 15,
      "outputs": [
        {
          "name": "stdout",
          "output_type": "stream",
          "text": [
            "Enter your Open AI API key: ··········\n"
          ]
        }
      ]
    },
    {
      "cell_type": "code",
      "source": [
        "## set env variable\n",
        "os.environ['OPENAI_API_KEY'] = OPENAI_API_KEY"
      ],
      "metadata": {
        "id": "weB_s8MicO19"
      },
      "execution_count": 16,
      "outputs": []
    },
    {
      "cell_type": "markdown",
      "source": [
        "# Setup LLM from OpenAI\n",
        "* See docs for each LLM provider: https://dspy.ai/learn/programming/language_models/"
      ],
      "metadata": {
        "id": "N4D7NGXFc6s5"
      }
    },
    {
      "cell_type": "code",
      "source": [
        "## load model from Open AI\n",
        "llm = dspy.LM('openai/gpt-4o-mini')\n",
        "dspy.configure(lm=llm)"
      ],
      "metadata": {
        "id": "CDZo6tmocUj1"
      },
      "execution_count": 17,
      "outputs": []
    },
    {
      "cell_type": "markdown",
      "source": [
        "# Test LLM"
      ],
      "metadata": {
        "id": "HM7IC5NbdhQ3"
      }
    },
    {
      "cell_type": "code",
      "source": [
        "## testing LLM\n",
        "llm(\"Say this is a test!\", temperature=0.7)\n",
        "llm(messages=[{\"role\": \"user\", \"content\": \"Hello! I am using DSPy today.\"}])  #test"
      ],
      "metadata": {
        "colab": {
          "base_uri": "https://localhost:8080/"
        },
        "id": "cDzZSbVudbMV",
        "outputId": "425f7579-7f54-4678-fad2-8ba4780f0fc1"
      },
      "execution_count": 18,
      "outputs": [
        {
          "output_type": "execute_result",
          "data": {
            "text/plain": [
              "[\"Hello! That's great to hear! DSPy is a powerful tool for building and deploying decision systems. How can I assist you with it today? Do you have any specific questions or tasks in mind?\"]"
            ]
          },
          "metadata": {},
          "execution_count": 18
        }
      ]
    },
    {
      "cell_type": "markdown",
      "source": [
        "# Using Modules in DSPy\n",
        "* More about modules here:https://dspy.ai/learn/programming/modules/\n",
        "* A DSPy **module is a building block** for programs that use LMs.\n",
        "  * Each built-in module abstracts a prompting technique such as chain of thought or ReAct.\n",
        "  * They are generalized to handle any dspy signature.\n",
        "\n",
        "  * A DSPy module has learnable parameters (i.e., the little pieces comprising the prompt and the LM weights) and can be invoked (called) to process inputs and return outputs.\n",
        "\n",
        "  * Multiple modules can be composed into bigger modules (programs). DSPy modules are inspired directly by NN modules in PyTorch, but applied to LM programs."
      ],
      "metadata": {
        "id": "XDogLnA2d58T"
      }
    },
    {
      "cell_type": "markdown",
      "source": [
        "## Predict Module\n",
        "* The predict module gives the LLM the basic instructions you are asking it to perform.\n",
        "* Yes there is an input question prompt but notice we don't have to write a long paragraph explaining what we want the LLM to do."
      ],
      "metadata": {
        "id": "jmiRIY3Hezb2"
      }
    },
    {
      "cell_type": "code",
      "source": [
        "## modules in dspy\n",
        "pred_model = Predict('question -> answer')\n",
        "model_output = pred_model(question=\"When was the declaration of independence signed?\")"
      ],
      "metadata": {
        "id": "N0JmypgWdmtZ"
      },
      "execution_count": 19,
      "outputs": []
    },
    {
      "cell_type": "code",
      "source": [
        "## answer\n",
        "print(model_output.answer)"
      ],
      "metadata": {
        "colab": {
          "base_uri": "https://localhost:8080/"
        },
        "id": "_5GnI7IBeSb9",
        "outputId": "d886c33f-87ca-4a8e-8d5d-b440610591b9"
      },
      "execution_count": 20,
      "outputs": [
        {
          "output_type": "stream",
          "name": "stdout",
          "text": [
            "The Declaration of Independence was adopted on July 4, 1776, but it was not signed by all delegates on that date. The signing took place over several weeks, with most delegates signing it on August 2, 1776.\n"
          ]
        }
      ]
    },
    {
      "cell_type": "code",
      "source": [
        "## model output is a prediction object\n",
        "model_output"
      ],
      "metadata": {
        "id": "k1DZSkCNeU2n",
        "colab": {
          "base_uri": "https://localhost:8080/"
        },
        "outputId": "b5668c90-0a76-44ec-df0a-80ebb9698a15"
      },
      "execution_count": 22,
      "outputs": [
        {
          "output_type": "execute_result",
          "data": {
            "text/plain": [
              "Prediction(\n",
              "    answer='The Declaration of Independence was adopted on July 4, 1776, but it was not signed by all delegates on that date. The signing took place over several weeks, with most delegates signing it on August 2, 1776.'\n",
              ")"
            ]
          },
          "metadata": {},
          "execution_count": 22
        }
      ]
    },
    {
      "cell_type": "markdown",
      "source": [
        "Summary\n",
        "* We can see this is a prediction object."
      ],
      "metadata": {
        "id": "ztikIq6qhpG4"
      }
    },
    {
      "cell_type": "code",
      "source": [
        "## lets see the predict object\n",
        "pred_model"
      ],
      "metadata": {
        "colab": {
          "base_uri": "https://localhost:8080/"
        },
        "id": "d54cbIFthoJE",
        "outputId": "6b5aebc0-20c3-47ad-d546-177d5d9930b1"
      },
      "execution_count": 23,
      "outputs": [
        {
          "output_type": "execute_result",
          "data": {
            "text/plain": [
              "Predict(StringSignature(question -> answer\n",
              "    instructions='Given the fields `question`, produce the fields `answer`.'\n",
              "    question = Field(annotation=str required=True json_schema_extra={'__dspy_field_type': 'input', 'prefix': 'Question:', 'desc': '${question}'})\n",
              "    answer = Field(annotation=str required=True json_schema_extra={'__dspy_field_type': 'output', 'prefix': 'Answer:', 'desc': '${answer}'})\n",
              "))"
            ]
          },
          "metadata": {},
          "execution_count": 23
        }
      ]
    },
    {
      "cell_type": "markdown",
      "source": [
        "Summary\n",
        "* We can see this is essentially a Pydantic based program based on the type hinting."
      ],
      "metadata": {
        "id": "IcDTkhi1h3LZ"
      }
    },
    {
      "cell_type": "code",
      "source": [
        "## let see the answer again\n",
        "model_output.answer"
      ],
      "metadata": {
        "colab": {
          "base_uri": "https://localhost:8080/",
          "height": 70
        },
        "id": "mHDJiMVjh2iT",
        "outputId": "cb724573-a185-4e24-878d-fe8f15991c36"
      },
      "execution_count": 24,
      "outputs": [
        {
          "output_type": "execute_result",
          "data": {
            "text/plain": [
              "'The Declaration of Independence was adopted on July 4, 1776, but it was not signed by all delegates on that date. The signing took place over several weeks, with most delegates signing it on August 2, 1776.'"
            ],
            "application/vnd.google.colaboratory.intrinsic+json": {
              "type": "string"
            }
          },
          "metadata": {},
          "execution_count": 24
        }
      ]
    },
    {
      "cell_type": "markdown",
      "source": [
        "## History of LLM object\n",
        "* We can see all calls we made to the llm object."
      ],
      "metadata": {
        "id": "dAn5d70AiL1x"
      }
    },
    {
      "cell_type": "code",
      "source": [
        "## lets see the history of the llm\n",
        "llm.history"
      ],
      "metadata": {
        "colab": {
          "base_uri": "https://localhost:8080/"
        },
        "id": "ACl7omCMiGAf",
        "outputId": "9e15a89b-6baf-4183-b799-8be9f9de0477"
      },
      "execution_count": 25,
      "outputs": [
        {
          "output_type": "execute_result",
          "data": {
            "text/plain": [
              "[{'prompt': 'Say this is a test!',\n",
              "  'messages': None,\n",
              "  'kwargs': {'temperature': 0.7},\n",
              "  'response': ModelResponse(id='chatcmpl-BJL68wfH07o0pMU2zRwCZhIPRlxlK', created=1743949032, model='gpt-4o-mini-2024-07-18', object='chat.completion', system_fingerprint='fp_b376dfbbd5', choices=[Choices(finish_reason='stop', index=0, message=Message(content='This is a test! How can I assist you further?', role='assistant', tool_calls=None, function_call=None, provider_specific_fields={'refusal': None, 'annotations': []}))], usage={}, service_tier='default', cache_hit=None),\n",
              "  'outputs': ['This is a test! How can I assist you further?'],\n",
              "  'usage': {},\n",
              "  'cost': 9.75e-06,\n",
              "  'timestamp': '2025-04-06T19:13:47.215598',\n",
              "  'uuid': 'e21bf70d-e98a-4dde-8b7c-f6db06bf9076',\n",
              "  'model': 'openai/gpt-4o-mini',\n",
              "  'response_model': 'gpt-4o-mini-2024-07-18',\n",
              "  'model_type': 'chat'},\n",
              " {'prompt': None,\n",
              "  'messages': [{'role': 'user', 'content': 'Hello! I am using DSPy today.'}],\n",
              "  'kwargs': {},\n",
              "  'response': ModelResponse(id='chatcmpl-BJL6gthUBHqcFJ8cX9l8yvFbGIJV3', created=1743949066, model='gpt-4o-mini-2024-07-18', object='chat.completion', system_fingerprint='fp_b376dfbbd5', choices=[Choices(finish_reason='stop', index=0, message=Message(content=\"Hello! That's great to hear! DSPy is a powerful tool for building and deploying decision systems. How can I assist you with it today? Do you have any specific questions or tasks in mind?\", role='assistant', tool_calls=None, function_call=None, provider_specific_fields={'refusal': None, 'annotations': []}))], usage={}, service_tier='default', cache_hit=None),\n",
              "  'outputs': [\"Hello! That's great to hear! DSPy is a powerful tool for building and deploying decision systems. How can I assist you with it today? Do you have any specific questions or tasks in mind?\"],\n",
              "  'usage': {},\n",
              "  'cost': 2.7e-05,\n",
              "  'timestamp': '2025-04-06T19:13:47.219118',\n",
              "  'uuid': '785440bc-3d7c-4461-888c-254a426b4402',\n",
              "  'model': 'openai/gpt-4o-mini',\n",
              "  'response_model': 'gpt-4o-mini-2024-07-18',\n",
              "  'model_type': 'chat'},\n",
              " {'prompt': None,\n",
              "  'messages': [{'role': 'system',\n",
              "    'content': 'Your input fields are:\\n1. `question` (str)\\n\\nYour output fields are:\\n1. `answer` (str)\\n\\nAll interactions will be structured in the following way, with the appropriate values filled in.\\n\\n[[ ## question ## ]]\\n{question}\\n\\n[[ ## answer ## ]]\\n{answer}\\n\\n[[ ## completed ## ]]\\n\\nIn adhering to this structure, your objective is: \\n        Given the fields `question`, produce the fields `answer`.'},\n",
              "   {'role': 'user',\n",
              "    'content': '[[ ## question ## ]]\\nWhen was the declaration of independence signed?\\n\\nRespond with the corresponding output fields, starting with the field `[[ ## answer ## ]]`, and then ending with the marker for `[[ ## completed ## ]]`.'}],\n",
              "  'kwargs': {},\n",
              "  'response': ModelResponse(id='chatcmpl-BJL91KZjZCZvzprJHVeiDm8IcdK9x', created=1743949211, model='gpt-4o-mini-2024-07-18', object='chat.completion', system_fingerprint='fp_86d0290411', choices=[Choices(finish_reason='stop', index=0, message=Message(content='[[ ## answer ## ]]\\nThe Declaration of Independence was adopted on July 4, 1776, but it was not signed by all delegates on that date. The signing took place over several weeks, with most delegates signing it on August 2, 1776.\\n\\n[[ ## completed ## ]]', role='assistant', tool_calls=None, function_call=None, provider_specific_fields={'refusal': None, 'annotations': []}))], usage={}, service_tier='default', cache_hit=None),\n",
              "  'outputs': ['[[ ## answer ## ]]\\nThe Declaration of Independence was adopted on July 4, 1776, but it was not signed by all delegates on that date. The signing took place over several weeks, with most delegates signing it on August 2, 1776.\\n\\n[[ ## completed ## ]]'],\n",
              "  'usage': {},\n",
              "  'cost': 5.775e-05,\n",
              "  'timestamp': '2025-04-06T19:13:52.451218',\n",
              "  'uuid': '8fec731c-db47-41c9-be82-966648cafb3e',\n",
              "  'model': 'openai/gpt-4o-mini',\n",
              "  'response_model': 'gpt-4o-mini-2024-07-18',\n",
              "  'model_type': 'chat'}]"
            ]
          },
          "metadata": {},
          "execution_count": 25
        }
      ]
    },
    {
      "cell_type": "code",
      "source": [
        "## a better way to see the history is this\n",
        "llm.inspect_history(n=3)"
      ],
      "metadata": {
        "colab": {
          "base_uri": "https://localhost:8080/"
        },
        "id": "jRDUco6SiKTw",
        "outputId": "78f674b5-226e-4b3a-be64-8ea5173d2c69"
      },
      "execution_count": 26,
      "outputs": [
        {
          "output_type": "stream",
          "name": "stdout",
          "text": [
            "\n",
            "\n",
            "\n",
            "\n",
            "\u001b[34m[2025-04-06T19:13:47.215598]\u001b[0m\n",
            "\n",
            "\u001b[31mUser message:\u001b[0m\n",
            "\n",
            "Say this is a test!\n",
            "\n",
            "\n",
            "\u001b[31mResponse:\u001b[0m\n",
            "\n",
            "\u001b[32mThis is a test! How can I assist you further?\u001b[0m\n",
            "\n",
            "\n",
            "\n",
            "\n",
            "\n",
            "\u001b[34m[2025-04-06T19:13:47.219118]\u001b[0m\n",
            "\n",
            "\u001b[31mUser message:\u001b[0m\n",
            "\n",
            "Hello! I am using DSPy today.\n",
            "\n",
            "\n",
            "\u001b[31mResponse:\u001b[0m\n",
            "\n",
            "\u001b[32mHello! That's great to hear! DSPy is a powerful tool for building and deploying decision systems. How can I assist you with it today? Do you have any specific questions or tasks in mind?\u001b[0m\n",
            "\n",
            "\n",
            "\n",
            "\n",
            "\n",
            "\u001b[34m[2025-04-06T19:13:52.451218]\u001b[0m\n",
            "\n",
            "\u001b[31mSystem message:\u001b[0m\n",
            "\n",
            "Your input fields are:\n",
            "1. `question` (str)\n",
            "\n",
            "Your output fields are:\n",
            "1. `answer` (str)\n",
            "\n",
            "All interactions will be structured in the following way, with the appropriate values filled in.\n",
            "\n",
            "[[ ## question ## ]]\n",
            "{question}\n",
            "\n",
            "[[ ## answer ## ]]\n",
            "{answer}\n",
            "\n",
            "[[ ## completed ## ]]\n",
            "\n",
            "In adhering to this structure, your objective is: \n",
            "        Given the fields `question`, produce the fields `answer`.\n",
            "\n",
            "\n",
            "\u001b[31mUser message:\u001b[0m\n",
            "\n",
            "[[ ## question ## ]]\n",
            "When was the declaration of independence signed?\n",
            "\n",
            "Respond with the corresponding output fields, starting with the field `[[ ## answer ## ]]`, and then ending with the marker for `[[ ## completed ## ]]`.\n",
            "\n",
            "\n",
            "\u001b[31mResponse:\u001b[0m\n",
            "\n",
            "\u001b[32m[[ ## answer ## ]]\n",
            "The Declaration of Independence was adopted on July 4, 1776, but it was not signed by all delegates on that date. The signing took place over several weeks, with most delegates signing it on August 2, 1776.\n",
            "\n",
            "[[ ## completed ## ]]\u001b[0m\n",
            "\n",
            "\n",
            "\n",
            "\n",
            "\n"
          ]
        }
      ]
    },
    {
      "cell_type": "markdown",
      "source": [
        "Summary\n",
        "* What is interesting about dspy is we can see it automatically structured a \"formatted prompt\" for us basically the same as if we manually wrote this as a string!\n",
        "* We can see the type hinting as well which is an added benefit."
      ],
      "metadata": {
        "id": "uVBHbuA8ika0"
      }
    },
    {
      "cell_type": "code",
      "source": [],
      "metadata": {
        "id": "BiWq5e3ViZMo"
      },
      "execution_count": null,
      "outputs": []
    }
  ]
}