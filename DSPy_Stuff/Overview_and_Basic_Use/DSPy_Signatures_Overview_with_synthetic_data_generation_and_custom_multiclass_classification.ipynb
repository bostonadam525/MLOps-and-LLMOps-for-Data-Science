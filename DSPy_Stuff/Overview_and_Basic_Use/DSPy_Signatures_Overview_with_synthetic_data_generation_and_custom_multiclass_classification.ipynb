{
  "nbformat": 4,
  "nbformat_minor": 0,
  "metadata": {
    "colab": {
      "provenance": []
    },
    "kernelspec": {
      "name": "python3",
      "display_name": "Python 3"
    },
    "language_info": {
      "name": "python"
    }
  },
  "cells": [
    {
      "cell_type": "markdown",
      "source": [
        "# DSPy Signatures Overview - with synthetic data generation & Custom MultiClass Classification\n",
        "* Notebook by Adam Lang\n",
        "* Date: 4/6/2025\n",
        "\n",
        "# Overview\n",
        "* This notebook goes over the techniques and implementation of Signatures in DSPy.\n",
        "* We will go over the 2 basic types of signatures and then show how to use a custom class signature to generate synthetic data with an LLM and then use a custom created class to perfor multiclass classification on that synethetic data."
      ],
      "metadata": {
        "id": "KwGt-80icIgf"
      }
    },
    {
      "cell_type": "markdown",
      "source": [
        "# Install Dependencies"
      ],
      "metadata": {
        "id": "4YaJMNatcWVa"
      }
    },
    {
      "cell_type": "code",
      "execution_count": 1,
      "metadata": {
        "id": "0IMpFoy7b_-2"
      },
      "outputs": [],
      "source": [
        "%%capture\n",
        "!pip install dspy-ai"
      ]
    },
    {
      "cell_type": "code",
      "source": [
        "%%capture\n",
        "!pip install openai"
      ],
      "metadata": {
        "id": "gFnP6QZwcay-"
      },
      "execution_count": 2,
      "outputs": []
    },
    {
      "cell_type": "code",
      "source": [
        "## load libraries\n",
        "import os\n",
        "import openai\n",
        "## dspy imports\n",
        "import dspy\n",
        "from dspy import (\n",
        "    Signature,\n",
        "    Predict,\n",
        "    settings,\n",
        "    ChainOfThought,\n",
        "    context\n",
        ")\n",
        "## rich library for text enhancement\n",
        "from rich import print\n",
        "\n",
        "## turn off warnings\n",
        "import warnings\n",
        "warnings.filterwarnings(\"ignore\")"
      ],
      "metadata": {
        "id": "lqxxof_4cgP6"
      },
      "execution_count": 6,
      "outputs": []
    },
    {
      "cell_type": "markdown",
      "source": [
        "# Setup OpenAI Environment"
      ],
      "metadata": {
        "id": "5eHNOCSxcvTA"
      }
    },
    {
      "cell_type": "code",
      "source": [
        "import os\n",
        "from getpass import getpass\n",
        "\n",
        "OPENAI_API_KEY = getpass(\"Enter your openai api key: \")"
      ],
      "metadata": {
        "colab": {
          "base_uri": "https://localhost:8080/"
        },
        "id": "e0pByieNcr3f",
        "outputId": "30f60c90-950c-4a07-aa37-c805e2581e07"
      },
      "execution_count": 4,
      "outputs": [
        {
          "name": "stdout",
          "output_type": "stream",
          "text": [
            "Enter your openai api key: ··········\n"
          ]
        }
      ]
    },
    {
      "cell_type": "code",
      "source": [
        "## set environ variables\n",
        "os.environ['OPENAI_API_KEY'] = OPENAI_API_KEY"
      ],
      "metadata": {
        "id": "DzEMAyI_c490"
      },
      "execution_count": 5,
      "outputs": []
    },
    {
      "cell_type": "code",
      "source": [
        "## init llm\n",
        "llm = dspy.LM('openai/gpt-4o-mini')\n",
        "dspy.configure(lm=llm)"
      ],
      "metadata": {
        "id": "SzO-WGicc_Ow"
      },
      "execution_count": 7,
      "outputs": []
    },
    {
      "cell_type": "markdown",
      "source": [
        "# Signatures\n",
        "* Here we setup a dictionary of signatures that we want to use.\n",
        "* The key-value pairs make it easier to use the Signatures in a modular program."
      ],
      "metadata": {
        "id": "dYwrwuzMdybl"
      }
    },
    {
      "cell_type": "code",
      "source": [
        "## signatures dict\n",
        "signatures = {\n",
        "    \"QuestionAnswering\": \"question -> answer\",\n",
        "    \"SentimentClassification\": \"sentence -> sentiment\",\n",
        "    \"Summarization\": [\"document -> summary\",\n",
        "                      \"text -> gist\",\n",
        "                      \"long_context -> tldr\"],\n",
        "    \"RAG\": \"context, question -> answer\",\n",
        "    \"Multi-Choice\": \"question, choices -> reasoning, selection\",\n",
        "\n",
        "}"
      ],
      "metadata": {
        "id": "jW2DSuGzdtdb"
      },
      "execution_count": 8,
      "outputs": []
    },
    {
      "cell_type": "markdown",
      "source": [
        "# 1. Inline Signatures\n",
        "* Signatures can be defined as a short string, with argument names and optional types that define semantic roles for inputs/outputs."
      ],
      "metadata": {
        "id": "GvMZaEa6e6QK"
      }
    },
    {
      "cell_type": "markdown",
      "source": [
        "## Example 1 - `QuestionAnswering`"
      ],
      "metadata": {
        "id": "WBANR3OZgPqg"
      }
    },
    {
      "cell_type": "code",
      "source": [
        "## init a signature from the dictionary\n",
        "signatures[\"QuestionAnswering\"]"
      ],
      "metadata": {
        "colab": {
          "base_uri": "https://localhost:8080/",
          "height": 35
        },
        "id": "HufE_FYNe5iC",
        "outputId": "0607e172-0a38-4e5e-b6ef-ab914dd55cbc"
      },
      "execution_count": 9,
      "outputs": [
        {
          "output_type": "execute_result",
          "data": {
            "text/plain": [
              "'question -> answer'"
            ],
            "application/vnd.google.colaboratory.intrinsic+json": {
              "type": "string"
            }
          },
          "metadata": {},
          "execution_count": 9
        }
      ]
    },
    {
      "cell_type": "code",
      "source": [
        "signatures['QuestionAnswering'][:]"
      ],
      "metadata": {
        "colab": {
          "base_uri": "https://localhost:8080/",
          "height": 35
        },
        "id": "ZDHyXYkMfXrV",
        "outputId": "3523a678-b216-403b-8a0e-d34b14ef9e60"
      },
      "execution_count": 18,
      "outputs": [
        {
          "output_type": "execute_result",
          "data": {
            "text/plain": [
              "'question -> answer'"
            ],
            "application/vnd.google.colaboratory.intrinsic+json": {
              "type": "string"
            }
          },
          "metadata": {},
          "execution_count": 18
        }
      ]
    },
    {
      "cell_type": "code",
      "source": [
        "## setup prediction module\n",
        "qa_prediction = Predict(signatures['QuestionAnswering'][:])\n",
        "\n",
        "## get result\n",
        "print(qa_prediction)"
      ],
      "metadata": {
        "colab": {
          "base_uri": "https://localhost:8080/",
          "height": 133
        },
        "id": "bTLdGVJpfMhN",
        "outputId": "1bd6cc26-341c-4aa0-c383-32f38a4cc2a3"
      },
      "execution_count": 19,
      "outputs": [
        {
          "output_type": "display_data",
          "data": {
            "text/plain": [
              "\u001b[1;35mPredict\u001b[0m\u001b[1m(\u001b[0m\u001b[1;35mStringSignature\u001b[0m\u001b[1m(\u001b[0mquestion -> answer\n",
              "    \u001b[33minstructions\u001b[0m=\u001b[32m'Given the fields `question`, produce the fields `answer`.'\u001b[0m\n",
              "    question = \u001b[1;35mField\u001b[0m\u001b[1m(\u001b[0m\u001b[33mannotation\u001b[0m=\u001b[35mstr\u001b[0m \u001b[33mrequired\u001b[0m=\u001b[3;92mTrue\u001b[0m \u001b[33mjson_schema_extra\u001b[0m=\u001b[1m{\u001b[0m\u001b[32m'__dspy_field_type'\u001b[0m: \u001b[32m'input'\u001b[0m, \u001b[32m'prefix'\u001b[0m: \n",
              "\u001b[32m'Question:'\u001b[0m, \u001b[32m'desc'\u001b[0m: \u001b[32m'$\u001b[0m\u001b[32m{\u001b[0m\u001b[32mquestion\u001b[0m\u001b[32m}\u001b[0m\u001b[32m'\u001b[0m\u001b[1m}\u001b[0m\u001b[1m)\u001b[0m\n",
              "    answer = \u001b[1;35mField\u001b[0m\u001b[1m(\u001b[0m\u001b[33mannotation\u001b[0m=\u001b[35mstr\u001b[0m \u001b[33mrequired\u001b[0m=\u001b[3;92mTrue\u001b[0m \u001b[33mjson_schema_extra\u001b[0m=\u001b[1m{\u001b[0m\u001b[32m'__dspy_field_type'\u001b[0m: \u001b[32m'output'\u001b[0m, \u001b[32m'prefix'\u001b[0m: \n",
              "\u001b[32m'Answer:'\u001b[0m, \u001b[32m'desc'\u001b[0m: \u001b[32m'$\u001b[0m\u001b[32m{\u001b[0m\u001b[32manswer\u001b[0m\u001b[32m}\u001b[0m\u001b[32m'\u001b[0m\u001b[1m}\u001b[0m\u001b[1m)\u001b[0m\n",
              "\u001b[1m)\u001b[0m\u001b[1m)\u001b[0m\n"
            ],
            "text/html": [
              "<pre style=\"white-space:pre;overflow-x:auto;line-height:normal;font-family:Menlo,'DejaVu Sans Mono',consolas,'Courier New',monospace\"><span style=\"color: #800080; text-decoration-color: #800080; font-weight: bold\">Predict</span><span style=\"font-weight: bold\">(</span><span style=\"color: #800080; text-decoration-color: #800080; font-weight: bold\">StringSignature</span><span style=\"font-weight: bold\">(</span>question -&gt; answer\n",
              "    <span style=\"color: #808000; text-decoration-color: #808000\">instructions</span>=<span style=\"color: #008000; text-decoration-color: #008000\">'Given the fields `question`, produce the fields `answer`.'</span>\n",
              "    question = <span style=\"color: #800080; text-decoration-color: #800080; font-weight: bold\">Field</span><span style=\"font-weight: bold\">(</span><span style=\"color: #808000; text-decoration-color: #808000\">annotation</span>=<span style=\"color: #800080; text-decoration-color: #800080\">str</span> <span style=\"color: #808000; text-decoration-color: #808000\">required</span>=<span style=\"color: #00ff00; text-decoration-color: #00ff00; font-style: italic\">True</span> <span style=\"color: #808000; text-decoration-color: #808000\">json_schema_extra</span>=<span style=\"font-weight: bold\">{</span><span style=\"color: #008000; text-decoration-color: #008000\">'__dspy_field_type'</span>: <span style=\"color: #008000; text-decoration-color: #008000\">'input'</span>, <span style=\"color: #008000; text-decoration-color: #008000\">'prefix'</span>: \n",
              "<span style=\"color: #008000; text-decoration-color: #008000\">'Question:'</span>, <span style=\"color: #008000; text-decoration-color: #008000\">'desc'</span>: <span style=\"color: #008000; text-decoration-color: #008000\">'${question}'</span><span style=\"font-weight: bold\">})</span>\n",
              "    answer = <span style=\"color: #800080; text-decoration-color: #800080; font-weight: bold\">Field</span><span style=\"font-weight: bold\">(</span><span style=\"color: #808000; text-decoration-color: #808000\">annotation</span>=<span style=\"color: #800080; text-decoration-color: #800080\">str</span> <span style=\"color: #808000; text-decoration-color: #808000\">required</span>=<span style=\"color: #00ff00; text-decoration-color: #00ff00; font-style: italic\">True</span> <span style=\"color: #808000; text-decoration-color: #808000\">json_schema_extra</span>=<span style=\"font-weight: bold\">{</span><span style=\"color: #008000; text-decoration-color: #008000\">'__dspy_field_type'</span>: <span style=\"color: #008000; text-decoration-color: #008000\">'output'</span>, <span style=\"color: #008000; text-decoration-color: #008000\">'prefix'</span>: \n",
              "<span style=\"color: #008000; text-decoration-color: #008000\">'Answer:'</span>, <span style=\"color: #008000; text-decoration-color: #008000\">'desc'</span>: <span style=\"color: #008000; text-decoration-color: #008000\">'${answer}'</span><span style=\"font-weight: bold\">})</span>\n",
              "<span style=\"font-weight: bold\">))</span>\n",
              "</pre>\n"
            ]
          },
          "metadata": {}
        }
      ]
    },
    {
      "cell_type": "markdown",
      "source": [
        "Summary\n",
        "* We can see with the signature we are able to get pydantic-like fields as the input and output.\n",
        "* We didn't define the description but will do that later."
      ],
      "metadata": {
        "id": "kKs3DB7mgbT9"
      }
    },
    {
      "cell_type": "markdown",
      "source": [
        "## Example 2 - `Summarization`"
      ],
      "metadata": {
        "id": "DeO3rTzUgShD"
      }
    },
    {
      "cell_type": "code",
      "source": [
        "signatures['Summarization'][0]"
      ],
      "metadata": {
        "colab": {
          "base_uri": "https://localhost:8080/",
          "height": 35
        },
        "id": "dm-aFuARg259",
        "outputId": "9b2d2fa4-32be-45d7-b15f-4435ab7169cc"
      },
      "execution_count": 22,
      "outputs": [
        {
          "output_type": "execute_result",
          "data": {
            "text/plain": [
              "'document -> summary'"
            ],
            "application/vnd.google.colaboratory.intrinsic+json": {
              "type": "string"
            }
          },
          "metadata": {},
          "execution_count": 22
        }
      ]
    },
    {
      "cell_type": "code",
      "source": [
        "## summarization example\n",
        "sum_preds = Predict(signatures['Summarization'][0])\n",
        "\n",
        "## get result\n",
        "print(sum_preds)"
      ],
      "metadata": {
        "colab": {
          "base_uri": "https://localhost:8080/",
          "height": 133
        },
        "id": "xjP-AROpf6ay",
        "outputId": "b93b101c-d148-4c10-a788-9484b4bfbdb5"
      },
      "execution_count": 23,
      "outputs": [
        {
          "output_type": "display_data",
          "data": {
            "text/plain": [
              "\u001b[1;35mPredict\u001b[0m\u001b[1m(\u001b[0m\u001b[1;35mStringSignature\u001b[0m\u001b[1m(\u001b[0mdocument -> summary\n",
              "    \u001b[33minstructions\u001b[0m=\u001b[32m'Given the fields `document`, produce the fields `summary`.'\u001b[0m\n",
              "    document = \u001b[1;35mField\u001b[0m\u001b[1m(\u001b[0m\u001b[33mannotation\u001b[0m=\u001b[35mstr\u001b[0m \u001b[33mrequired\u001b[0m=\u001b[3;92mTrue\u001b[0m \u001b[33mjson_schema_extra\u001b[0m=\u001b[1m{\u001b[0m\u001b[32m'__dspy_field_type'\u001b[0m: \u001b[32m'input'\u001b[0m, \u001b[32m'prefix'\u001b[0m: \n",
              "\u001b[32m'Document:'\u001b[0m, \u001b[32m'desc'\u001b[0m: \u001b[32m'$\u001b[0m\u001b[32m{\u001b[0m\u001b[32mdocument\u001b[0m\u001b[32m}\u001b[0m\u001b[32m'\u001b[0m\u001b[1m}\u001b[0m\u001b[1m)\u001b[0m\n",
              "    summary = \u001b[1;35mField\u001b[0m\u001b[1m(\u001b[0m\u001b[33mannotation\u001b[0m=\u001b[35mstr\u001b[0m \u001b[33mrequired\u001b[0m=\u001b[3;92mTrue\u001b[0m \u001b[33mjson_schema_extra\u001b[0m=\u001b[1m{\u001b[0m\u001b[32m'__dspy_field_type'\u001b[0m: \u001b[32m'output'\u001b[0m, \u001b[32m'prefix'\u001b[0m: \n",
              "\u001b[32m'Summary:'\u001b[0m, \u001b[32m'desc'\u001b[0m: \u001b[32m'$\u001b[0m\u001b[32m{\u001b[0m\u001b[32msummary\u001b[0m\u001b[32m}\u001b[0m\u001b[32m'\u001b[0m\u001b[1m}\u001b[0m\u001b[1m)\u001b[0m\n",
              "\u001b[1m)\u001b[0m\u001b[1m)\u001b[0m\n"
            ],
            "text/html": [
              "<pre style=\"white-space:pre;overflow-x:auto;line-height:normal;font-family:Menlo,'DejaVu Sans Mono',consolas,'Courier New',monospace\"><span style=\"color: #800080; text-decoration-color: #800080; font-weight: bold\">Predict</span><span style=\"font-weight: bold\">(</span><span style=\"color: #800080; text-decoration-color: #800080; font-weight: bold\">StringSignature</span><span style=\"font-weight: bold\">(</span>document -&gt; summary\n",
              "    <span style=\"color: #808000; text-decoration-color: #808000\">instructions</span>=<span style=\"color: #008000; text-decoration-color: #008000\">'Given the fields `document`, produce the fields `summary`.'</span>\n",
              "    document = <span style=\"color: #800080; text-decoration-color: #800080; font-weight: bold\">Field</span><span style=\"font-weight: bold\">(</span><span style=\"color: #808000; text-decoration-color: #808000\">annotation</span>=<span style=\"color: #800080; text-decoration-color: #800080\">str</span> <span style=\"color: #808000; text-decoration-color: #808000\">required</span>=<span style=\"color: #00ff00; text-decoration-color: #00ff00; font-style: italic\">True</span> <span style=\"color: #808000; text-decoration-color: #808000\">json_schema_extra</span>=<span style=\"font-weight: bold\">{</span><span style=\"color: #008000; text-decoration-color: #008000\">'__dspy_field_type'</span>: <span style=\"color: #008000; text-decoration-color: #008000\">'input'</span>, <span style=\"color: #008000; text-decoration-color: #008000\">'prefix'</span>: \n",
              "<span style=\"color: #008000; text-decoration-color: #008000\">'Document:'</span>, <span style=\"color: #008000; text-decoration-color: #008000\">'desc'</span>: <span style=\"color: #008000; text-decoration-color: #008000\">'${document}'</span><span style=\"font-weight: bold\">})</span>\n",
              "    summary = <span style=\"color: #800080; text-decoration-color: #800080; font-weight: bold\">Field</span><span style=\"font-weight: bold\">(</span><span style=\"color: #808000; text-decoration-color: #808000\">annotation</span>=<span style=\"color: #800080; text-decoration-color: #800080\">str</span> <span style=\"color: #808000; text-decoration-color: #808000\">required</span>=<span style=\"color: #00ff00; text-decoration-color: #00ff00; font-style: italic\">True</span> <span style=\"color: #808000; text-decoration-color: #808000\">json_schema_extra</span>=<span style=\"font-weight: bold\">{</span><span style=\"color: #008000; text-decoration-color: #008000\">'__dspy_field_type'</span>: <span style=\"color: #008000; text-decoration-color: #008000\">'output'</span>, <span style=\"color: #008000; text-decoration-color: #008000\">'prefix'</span>: \n",
              "<span style=\"color: #008000; text-decoration-color: #008000\">'Summary:'</span>, <span style=\"color: #008000; text-decoration-color: #008000\">'desc'</span>: <span style=\"color: #008000; text-decoration-color: #008000\">'${summary}'</span><span style=\"font-weight: bold\">})</span>\n",
              "<span style=\"font-weight: bold\">))</span>\n",
              "</pre>\n"
            ]
          },
          "metadata": {}
        }
      ]
    },
    {
      "cell_type": "markdown",
      "source": [
        "Summary\n",
        "* This template above does not tell the LLM to summarize a document.\n",
        "* However, it gives the fields and context for the LLM.\n",
        "* You can customize and define your input and outputs for the LLM context using this inline format."
      ],
      "metadata": {
        "id": "5zL1xRJ7hOpe"
      }
    },
    {
      "cell_type": "markdown",
      "source": [
        "## Example 3 - `ChainOfThought`\n",
        "* This is an example where we did not predfine these parameters and are adding them inline.\n",
        "* This means I did not set them in the dict above.\n",
        "* I am telling DSPy and the LLM that I want to use the `ChainOfThought` module from DSPy to leverage chain of thought prompting and I am defining the inputs and outputs.\n",
        "* Note about `ChainOfThought`\n",
        "  * This is a python class that is called within a DSPy module."
      ],
      "metadata": {
        "id": "4Adt7vMqhfW2"
      }
    },
    {
      "cell_type": "code",
      "source": [
        "## chain of thought example\n",
        "sum_cot = ChainOfThought('document -> summary')\n",
        "\n",
        "## print result\n",
        "print(sum_cot)"
      ],
      "metadata": {
        "colab": {
          "base_uri": "https://localhost:8080/",
          "height": 166
        },
        "id": "IvRdwyK4hCRc",
        "outputId": "f36b56e7-3551-4dea-e964-b7020d66d368"
      },
      "execution_count": 24,
      "outputs": [
        {
          "output_type": "display_data",
          "data": {
            "text/plain": [
              "predict = \u001b[1;35mPredict\u001b[0m\u001b[1m(\u001b[0m\u001b[1;35mStringSignature\u001b[0m\u001b[1m(\u001b[0mdocument -> reasoning, summary\n",
              "    \u001b[33minstructions\u001b[0m=\u001b[32m'Given the fields `document`, produce the fields `summary`.'\u001b[0m\n",
              "    document = \u001b[1;35mField\u001b[0m\u001b[1m(\u001b[0m\u001b[33mannotation\u001b[0m=\u001b[35mstr\u001b[0m \u001b[33mrequired\u001b[0m=\u001b[3;92mTrue\u001b[0m \u001b[33mjson_schema_extra\u001b[0m=\u001b[1m{\u001b[0m\u001b[32m'__dspy_field_type'\u001b[0m: \u001b[32m'input'\u001b[0m, \u001b[32m'prefix'\u001b[0m: \n",
              "\u001b[32m'Document:'\u001b[0m, \u001b[32m'desc'\u001b[0m: \u001b[32m'$\u001b[0m\u001b[32m{\u001b[0m\u001b[32mdocument\u001b[0m\u001b[32m}\u001b[0m\u001b[32m'\u001b[0m\u001b[1m}\u001b[0m\u001b[1m)\u001b[0m\n",
              "    reasoning = \u001b[1;35mField\u001b[0m\u001b[1m(\u001b[0m\u001b[33mannotation\u001b[0m=\u001b[35mstr\u001b[0m \u001b[33mrequired\u001b[0m=\u001b[3;92mTrue\u001b[0m \u001b[33mjson_schema_extra\u001b[0m=\u001b[1m{\u001b[0m\u001b[32m'prefix'\u001b[0m: \u001b[32m\"Reasoning: Let's think step by \u001b[0m\n",
              "\u001b[32mstep in order to\"\u001b[0m, \u001b[32m'desc'\u001b[0m: \u001b[32m'$\u001b[0m\u001b[32m{\u001b[0m\u001b[32mreasoning\u001b[0m\u001b[32m}\u001b[0m\u001b[32m'\u001b[0m, \u001b[32m'__dspy_field_type'\u001b[0m: \u001b[32m'output'\u001b[0m\u001b[1m}\u001b[0m\u001b[1m)\u001b[0m\n",
              "    summary = \u001b[1;35mField\u001b[0m\u001b[1m(\u001b[0m\u001b[33mannotation\u001b[0m=\u001b[35mstr\u001b[0m \u001b[33mrequired\u001b[0m=\u001b[3;92mTrue\u001b[0m \u001b[33mjson_schema_extra\u001b[0m=\u001b[1m{\u001b[0m\u001b[32m'__dspy_field_type'\u001b[0m: \u001b[32m'output'\u001b[0m, \u001b[32m'prefix'\u001b[0m: \n",
              "\u001b[32m'Summary:'\u001b[0m, \u001b[32m'desc'\u001b[0m: \u001b[32m'$\u001b[0m\u001b[32m{\u001b[0m\u001b[32msummary\u001b[0m\u001b[32m}\u001b[0m\u001b[32m'\u001b[0m\u001b[1m}\u001b[0m\u001b[1m)\u001b[0m\n",
              "\u001b[1m)\u001b[0m\u001b[1m)\u001b[0m\n"
            ],
            "text/html": [
              "<pre style=\"white-space:pre;overflow-x:auto;line-height:normal;font-family:Menlo,'DejaVu Sans Mono',consolas,'Courier New',monospace\">predict = <span style=\"color: #800080; text-decoration-color: #800080; font-weight: bold\">Predict</span><span style=\"font-weight: bold\">(</span><span style=\"color: #800080; text-decoration-color: #800080; font-weight: bold\">StringSignature</span><span style=\"font-weight: bold\">(</span>document -&gt; reasoning, summary\n",
              "    <span style=\"color: #808000; text-decoration-color: #808000\">instructions</span>=<span style=\"color: #008000; text-decoration-color: #008000\">'Given the fields `document`, produce the fields `summary`.'</span>\n",
              "    document = <span style=\"color: #800080; text-decoration-color: #800080; font-weight: bold\">Field</span><span style=\"font-weight: bold\">(</span><span style=\"color: #808000; text-decoration-color: #808000\">annotation</span>=<span style=\"color: #800080; text-decoration-color: #800080\">str</span> <span style=\"color: #808000; text-decoration-color: #808000\">required</span>=<span style=\"color: #00ff00; text-decoration-color: #00ff00; font-style: italic\">True</span> <span style=\"color: #808000; text-decoration-color: #808000\">json_schema_extra</span>=<span style=\"font-weight: bold\">{</span><span style=\"color: #008000; text-decoration-color: #008000\">'__dspy_field_type'</span>: <span style=\"color: #008000; text-decoration-color: #008000\">'input'</span>, <span style=\"color: #008000; text-decoration-color: #008000\">'prefix'</span>: \n",
              "<span style=\"color: #008000; text-decoration-color: #008000\">'Document:'</span>, <span style=\"color: #008000; text-decoration-color: #008000\">'desc'</span>: <span style=\"color: #008000; text-decoration-color: #008000\">'${document}'</span><span style=\"font-weight: bold\">})</span>\n",
              "    reasoning = <span style=\"color: #800080; text-decoration-color: #800080; font-weight: bold\">Field</span><span style=\"font-weight: bold\">(</span><span style=\"color: #808000; text-decoration-color: #808000\">annotation</span>=<span style=\"color: #800080; text-decoration-color: #800080\">str</span> <span style=\"color: #808000; text-decoration-color: #808000\">required</span>=<span style=\"color: #00ff00; text-decoration-color: #00ff00; font-style: italic\">True</span> <span style=\"color: #808000; text-decoration-color: #808000\">json_schema_extra</span>=<span style=\"font-weight: bold\">{</span><span style=\"color: #008000; text-decoration-color: #008000\">'prefix'</span>: <span style=\"color: #008000; text-decoration-color: #008000\">\"Reasoning: Let's think step by </span>\n",
              "<span style=\"color: #008000; text-decoration-color: #008000\">step in order to\"</span>, <span style=\"color: #008000; text-decoration-color: #008000\">'desc'</span>: <span style=\"color: #008000; text-decoration-color: #008000\">'${reasoning}'</span>, <span style=\"color: #008000; text-decoration-color: #008000\">'__dspy_field_type'</span>: <span style=\"color: #008000; text-decoration-color: #008000\">'output'</span><span style=\"font-weight: bold\">})</span>\n",
              "    summary = <span style=\"color: #800080; text-decoration-color: #800080; font-weight: bold\">Field</span><span style=\"font-weight: bold\">(</span><span style=\"color: #808000; text-decoration-color: #808000\">annotation</span>=<span style=\"color: #800080; text-decoration-color: #800080\">str</span> <span style=\"color: #808000; text-decoration-color: #808000\">required</span>=<span style=\"color: #00ff00; text-decoration-color: #00ff00; font-style: italic\">True</span> <span style=\"color: #808000; text-decoration-color: #808000\">json_schema_extra</span>=<span style=\"font-weight: bold\">{</span><span style=\"color: #008000; text-decoration-color: #008000\">'__dspy_field_type'</span>: <span style=\"color: #008000; text-decoration-color: #008000\">'output'</span>, <span style=\"color: #008000; text-decoration-color: #008000\">'prefix'</span>: \n",
              "<span style=\"color: #008000; text-decoration-color: #008000\">'Summary:'</span>, <span style=\"color: #008000; text-decoration-color: #008000\">'desc'</span>: <span style=\"color: #008000; text-decoration-color: #008000\">'${summary}'</span><span style=\"font-weight: bold\">})</span>\n",
              "<span style=\"font-weight: bold\">))</span>\n",
              "</pre>\n"
            ]
          },
          "metadata": {}
        }
      ]
    },
    {
      "cell_type": "markdown",
      "source": [
        "# 2. Class Signatures\n",
        "* These allow for customized Signatures in DSPy.\n",
        "* Using Pydantic type hints you can leverage DSPy to create your own classes to use in DSPy signatures if the default ones above don't match your data.\n",
        "  * The class formatting is similar to hugging face when you use a zero shot pipeline where you have to define:\n",
        "    * Task (e.g. text generation)\n",
        "    * sentence/data to classify\n",
        "    * dtype\n",
        "* Blog post about multiclass classification: https://www.dbreunig.com/2024/12/12/pipelines-prompt-optimization-with-dspy.html\n",
        "* DSPy module on class-based sigs: https://dspy.ai/learn/programming/signatures/#class-based-dspy-signatures"
      ],
      "metadata": {
        "id": "p-A3twf0iinb"
      }
    },
    {
      "cell_type": "code",
      "source": [
        "## imports\n",
        "from dspy import InputField, OutputField\n",
        "\n",
        "## Define custom MultiClass Signature\n",
        "class MultiClass(Signature):\n",
        "  ## 1. Task for LLM in docstring\n",
        "  \"\"\"\n",
        "  Classify the given data into Address, Name, Location, Building, Amount.\n",
        "  \"\"\"\n",
        "  ## 2. input field\n",
        "  sentence = InputField(desc=\"data to be classified\")\n",
        "  ## 3. output field (data_type)\n",
        "  data_type = OutputField(desc=\"falls in one of categories\")"
      ],
      "metadata": {
        "id": "odYorREliBPV"
      },
      "execution_count": 25,
      "outputs": []
    },
    {
      "cell_type": "code",
      "source": [
        "## now we can show our custom class\n",
        "pred_multi_class = Predict(MultiClass)\n",
        "print(pred_multi_class)"
      ],
      "metadata": {
        "colab": {
          "base_uri": "https://localhost:8080/",
          "height": 133
        },
        "id": "2e27rTRxlkh4",
        "outputId": "3a645d26-b86b-47ec-e2c7-fa11852fbc1b"
      },
      "execution_count": 26,
      "outputs": [
        {
          "output_type": "display_data",
          "data": {
            "text/plain": [
              "\u001b[1;35mPredict\u001b[0m\u001b[1m(\u001b[0m\u001b[1;35mMultiClass\u001b[0m\u001b[1m(\u001b[0msentence -> data_type\n",
              "    \u001b[33minstructions\u001b[0m=\u001b[32m'Classify the given data into Address, Name, Location, Building, Amount.'\u001b[0m\n",
              "    sentence = \u001b[1;35mField\u001b[0m\u001b[1m(\u001b[0m\u001b[33mannotation\u001b[0m=\u001b[35mstr\u001b[0m \u001b[33mrequired\u001b[0m=\u001b[3;92mTrue\u001b[0m \u001b[33mjson_schema_extra\u001b[0m=\u001b[1m{\u001b[0m\u001b[32m'desc'\u001b[0m: \u001b[32m'data to be classified'\u001b[0m, \n",
              "\u001b[32m'__dspy_field_type'\u001b[0m: \u001b[32m'input'\u001b[0m, \u001b[32m'prefix'\u001b[0m: \u001b[32m'Sentence:'\u001b[0m\u001b[1m}\u001b[0m\u001b[1m)\u001b[0m\n",
              "    data_type = \u001b[1;35mField\u001b[0m\u001b[1m(\u001b[0m\u001b[33mannotation\u001b[0m=\u001b[35mstr\u001b[0m \u001b[33mrequired\u001b[0m=\u001b[3;92mTrue\u001b[0m \u001b[33mjson_schema_extra\u001b[0m=\u001b[1m{\u001b[0m\u001b[32m'desc'\u001b[0m: \u001b[32m'falls in one of categories'\u001b[0m, \n",
              "\u001b[32m'__dspy_field_type'\u001b[0m: \u001b[32m'output'\u001b[0m, \u001b[32m'prefix'\u001b[0m: \u001b[32m'Data Type:'\u001b[0m\u001b[1m}\u001b[0m\u001b[1m)\u001b[0m\n",
              "\u001b[1m)\u001b[0m\u001b[1m)\u001b[0m\n"
            ],
            "text/html": [
              "<pre style=\"white-space:pre;overflow-x:auto;line-height:normal;font-family:Menlo,'DejaVu Sans Mono',consolas,'Courier New',monospace\"><span style=\"color: #800080; text-decoration-color: #800080; font-weight: bold\">Predict</span><span style=\"font-weight: bold\">(</span><span style=\"color: #800080; text-decoration-color: #800080; font-weight: bold\">MultiClass</span><span style=\"font-weight: bold\">(</span>sentence -&gt; data_type\n",
              "    <span style=\"color: #808000; text-decoration-color: #808000\">instructions</span>=<span style=\"color: #008000; text-decoration-color: #008000\">'Classify the given data into Address, Name, Location, Building, Amount.'</span>\n",
              "    sentence = <span style=\"color: #800080; text-decoration-color: #800080; font-weight: bold\">Field</span><span style=\"font-weight: bold\">(</span><span style=\"color: #808000; text-decoration-color: #808000\">annotation</span>=<span style=\"color: #800080; text-decoration-color: #800080\">str</span> <span style=\"color: #808000; text-decoration-color: #808000\">required</span>=<span style=\"color: #00ff00; text-decoration-color: #00ff00; font-style: italic\">True</span> <span style=\"color: #808000; text-decoration-color: #808000\">json_schema_extra</span>=<span style=\"font-weight: bold\">{</span><span style=\"color: #008000; text-decoration-color: #008000\">'desc'</span>: <span style=\"color: #008000; text-decoration-color: #008000\">'data to be classified'</span>, \n",
              "<span style=\"color: #008000; text-decoration-color: #008000\">'__dspy_field_type'</span>: <span style=\"color: #008000; text-decoration-color: #008000\">'input'</span>, <span style=\"color: #008000; text-decoration-color: #008000\">'prefix'</span>: <span style=\"color: #008000; text-decoration-color: #008000\">'Sentence:'</span><span style=\"font-weight: bold\">})</span>\n",
              "    data_type = <span style=\"color: #800080; text-decoration-color: #800080; font-weight: bold\">Field</span><span style=\"font-weight: bold\">(</span><span style=\"color: #808000; text-decoration-color: #808000\">annotation</span>=<span style=\"color: #800080; text-decoration-color: #800080\">str</span> <span style=\"color: #808000; text-decoration-color: #808000\">required</span>=<span style=\"color: #00ff00; text-decoration-color: #00ff00; font-style: italic\">True</span> <span style=\"color: #808000; text-decoration-color: #808000\">json_schema_extra</span>=<span style=\"font-weight: bold\">{</span><span style=\"color: #008000; text-decoration-color: #008000\">'desc'</span>: <span style=\"color: #008000; text-decoration-color: #008000\">'falls in one of categories'</span>, \n",
              "<span style=\"color: #008000; text-decoration-color: #008000\">'__dspy_field_type'</span>: <span style=\"color: #008000; text-decoration-color: #008000\">'output'</span>, <span style=\"color: #008000; text-decoration-color: #008000\">'prefix'</span>: <span style=\"color: #008000; text-decoration-color: #008000\">'Data Type:'</span><span style=\"font-weight: bold\">})</span>\n",
              "<span style=\"font-weight: bold\">))</span>\n",
              "</pre>\n"
            ]
          },
          "metadata": {}
        }
      ]
    },
    {
      "cell_type": "markdown",
      "source": [
        "# Use Case of DSPy - create synthetic data and classify it\n",
        "* We can create synthetic data to try out our custom multi class signature above.\n",
        "\n",
        "## 1. Create Synthetic Data with DSPy"
      ],
      "metadata": {
        "id": "Xhacgmi_nLFF"
      }
    },
    {
      "cell_type": "code",
      "source": [
        "## create synthetic json data\n",
        "synth_json_data = Predict('required_data -> json_output')\n",
        "\n",
        "## prompt to create synthetic data\n",
        "synth_prompt = \"Provide one example of address, location, name, building name and amount.\"\n",
        "\n",
        "## get JSON output\n",
        "with context(lm=llm):\n",
        "  resp = synth_json_data(required_data=synth_prompt)\n",
        "  print(resp)"
      ],
      "metadata": {
        "colab": {
          "base_uri": "https://localhost:8080/",
          "height": 83
        },
        "id": "F_2OFAkjlsBm",
        "outputId": "1ad4294b-4ea9-4fa3-9b6f-5fedb948708b"
      },
      "execution_count": 27,
      "outputs": [
        {
          "output_type": "display_data",
          "data": {
            "text/plain": [
              "\u001b[1;35mPrediction\u001b[0m\u001b[1m(\u001b[0m\n",
              "    \u001b[33mjson_output\u001b[0m=\u001b[32m'\u001b[0m\u001b[32m{\u001b[0m\u001b[32m\\n  \"address\": \"123 Main St, Springfield, IL 62701\",\\n  \"location\": \"Springfield\",\\n  \"name\": \u001b[0m\n",
              "\u001b[32m\"John Doe\",\\n  \"building_name\": \"Springfield Plaza\",\\n  \"amount\": 1500.00\\n\u001b[0m\u001b[32m}\u001b[0m\u001b[32m'\u001b[0m\n",
              "\u001b[1m)\u001b[0m\n"
            ],
            "text/html": [
              "<pre style=\"white-space:pre;overflow-x:auto;line-height:normal;font-family:Menlo,'DejaVu Sans Mono',consolas,'Courier New',monospace\"><span style=\"color: #800080; text-decoration-color: #800080; font-weight: bold\">Prediction</span><span style=\"font-weight: bold\">(</span>\n",
              "    <span style=\"color: #808000; text-decoration-color: #808000\">json_output</span>=<span style=\"color: #008000; text-decoration-color: #008000\">'{\\n  \"address\": \"123 Main St, Springfield, IL 62701\",\\n  \"location\": \"Springfield\",\\n  \"name\": </span>\n",
              "<span style=\"color: #008000; text-decoration-color: #008000\">\"John Doe\",\\n  \"building_name\": \"Springfield Plaza\",\\n  \"amount\": 1500.00\\n}'</span>\n",
              "<span style=\"font-weight: bold\">)</span>\n",
              "</pre>\n"
            ]
          },
          "metadata": {}
        }
      ]
    },
    {
      "cell_type": "code",
      "source": [
        "## lets analyze the synthetic json data\n",
        "import json\n",
        "\n",
        "## load synth data\n",
        "synth_data = json.loads(resp.json_output)\n",
        "synth_data"
      ],
      "metadata": {
        "colab": {
          "base_uri": "https://localhost:8080/"
        },
        "id": "6NnoS6fRnvnM",
        "outputId": "9b59481a-537e-4b92-e55d-9686373c5258"
      },
      "execution_count": 28,
      "outputs": [
        {
          "output_type": "execute_result",
          "data": {
            "text/plain": [
              "{'address': '123 Main St, Springfield, IL 62701',\n",
              " 'location': 'Springfield',\n",
              " 'name': 'John Doe',\n",
              " 'building_name': 'Springfield Plaza',\n",
              " 'amount': 1500.0}"
            ]
          },
          "metadata": {},
          "execution_count": 28
        }
      ]
    },
    {
      "cell_type": "code",
      "source": [
        "synth_data.values()"
      ],
      "metadata": {
        "colab": {
          "base_uri": "https://localhost:8080/"
        },
        "id": "Fb-G17QMpcjr",
        "outputId": "ab028f99-2b74-4146-8616-cfcb0b3da9eb"
      },
      "execution_count": 30,
      "outputs": [
        {
          "output_type": "execute_result",
          "data": {
            "text/plain": [
              "dict_values(['123 Main St, Springfield, IL 62701', 'Springfield', 'John Doe', 'Springfield Plaza', 1500.0])"
            ]
          },
          "metadata": {},
          "execution_count": 30
        }
      ]
    },
    {
      "cell_type": "markdown",
      "source": [
        "## 2. Classify synthetic data\n",
        "* We can now use the custom MultiClass Signature class we created to classify the synthetic data we just created."
      ],
      "metadata": {
        "id": "Yjb0kGoqoi1X"
      }
    },
    {
      "cell_type": "code",
      "source": [
        "## classify using custom Signature MultiClass\n",
        "with context(lm=llm):\n",
        "  for vals in synth_data.values():\n",
        "    print(\"Classifying: \", vals)\n",
        "    class_result = pred_multi_class(sentence=vals) ## sentence\n",
        "    print(\"Predicted class is: \", class_result.data_type) ## dtype"
      ],
      "metadata": {
        "colab": {
          "base_uri": "https://localhost:8080/",
          "height": 182
        },
        "id": "gUIav0JcoPCq",
        "outputId": "37438d32-fc08-4a30-8e17-3cb5c31b1233"
      },
      "execution_count": 29,
      "outputs": [
        {
          "output_type": "display_data",
          "data": {
            "text/plain": [
              "Classifying:  \u001b[1;36m123\u001b[0m Main St, Springfield, IL \u001b[1;36m62701\u001b[0m\n"
            ],
            "text/html": [
              "<pre style=\"white-space:pre;overflow-x:auto;line-height:normal;font-family:Menlo,'DejaVu Sans Mono',consolas,'Courier New',monospace\">Classifying:  <span style=\"color: #008080; text-decoration-color: #008080; font-weight: bold\">123</span> Main St, Springfield, IL <span style=\"color: #008080; text-decoration-color: #008080; font-weight: bold\">62701</span>\n",
              "</pre>\n"
            ]
          },
          "metadata": {}
        },
        {
          "output_type": "display_data",
          "data": {
            "text/plain": [
              "Predicted class is:  Address\n"
            ],
            "text/html": [
              "<pre style=\"white-space:pre;overflow-x:auto;line-height:normal;font-family:Menlo,'DejaVu Sans Mono',consolas,'Courier New',monospace\">Predicted class is:  Address\n",
              "</pre>\n"
            ]
          },
          "metadata": {}
        },
        {
          "output_type": "display_data",
          "data": {
            "text/plain": [
              "Classifying:  Springfield\n"
            ],
            "text/html": [
              "<pre style=\"white-space:pre;overflow-x:auto;line-height:normal;font-family:Menlo,'DejaVu Sans Mono',consolas,'Courier New',monospace\">Classifying:  Springfield\n",
              "</pre>\n"
            ]
          },
          "metadata": {}
        },
        {
          "output_type": "display_data",
          "data": {
            "text/plain": [
              "Predicted class is:  Location\n"
            ],
            "text/html": [
              "<pre style=\"white-space:pre;overflow-x:auto;line-height:normal;font-family:Menlo,'DejaVu Sans Mono',consolas,'Courier New',monospace\">Predicted class is:  Location\n",
              "</pre>\n"
            ]
          },
          "metadata": {}
        },
        {
          "output_type": "display_data",
          "data": {
            "text/plain": [
              "Classifying:  John Doe\n"
            ],
            "text/html": [
              "<pre style=\"white-space:pre;overflow-x:auto;line-height:normal;font-family:Menlo,'DejaVu Sans Mono',consolas,'Courier New',monospace\">Classifying:  John Doe\n",
              "</pre>\n"
            ]
          },
          "metadata": {}
        },
        {
          "output_type": "display_data",
          "data": {
            "text/plain": [
              "Predicted class is:  Name\n"
            ],
            "text/html": [
              "<pre style=\"white-space:pre;overflow-x:auto;line-height:normal;font-family:Menlo,'DejaVu Sans Mono',consolas,'Courier New',monospace\">Predicted class is:  Name\n",
              "</pre>\n"
            ]
          },
          "metadata": {}
        },
        {
          "output_type": "display_data",
          "data": {
            "text/plain": [
              "Classifying:  Springfield Plaza\n"
            ],
            "text/html": [
              "<pre style=\"white-space:pre;overflow-x:auto;line-height:normal;font-family:Menlo,'DejaVu Sans Mono',consolas,'Courier New',monospace\">Classifying:  Springfield Plaza\n",
              "</pre>\n"
            ]
          },
          "metadata": {}
        },
        {
          "output_type": "display_data",
          "data": {
            "text/plain": [
              "Predicted class is:  Location\n"
            ],
            "text/html": [
              "<pre style=\"white-space:pre;overflow-x:auto;line-height:normal;font-family:Menlo,'DejaVu Sans Mono',consolas,'Courier New',monospace\">Predicted class is:  Location\n",
              "</pre>\n"
            ]
          },
          "metadata": {}
        },
        {
          "output_type": "display_data",
          "data": {
            "text/plain": [
              "Classifying:  \u001b[1;36m1500.0\u001b[0m\n"
            ],
            "text/html": [
              "<pre style=\"white-space:pre;overflow-x:auto;line-height:normal;font-family:Menlo,'DejaVu Sans Mono',consolas,'Courier New',monospace\">Classifying:  <span style=\"color: #008080; text-decoration-color: #008080; font-weight: bold\">1500.0</span>\n",
              "</pre>\n"
            ]
          },
          "metadata": {}
        },
        {
          "output_type": "display_data",
          "data": {
            "text/plain": [
              "Predicted class is:  Amount\n"
            ],
            "text/html": [
              "<pre style=\"white-space:pre;overflow-x:auto;line-height:normal;font-family:Menlo,'DejaVu Sans Mono',consolas,'Courier New',monospace\">Predicted class is:  Amount\n",
              "</pre>\n"
            ]
          },
          "metadata": {}
        }
      ]
    },
    {
      "cell_type": "markdown",
      "source": [
        "# Another Use Case of DSPy with creating synthetic data + classifying it"
      ],
      "metadata": {
        "id": "WOgMxk9KqOU9"
      }
    },
    {
      "cell_type": "markdown",
      "source": [
        "## 1. Create custom multiclass classification class"
      ],
      "metadata": {
        "id": "E7khuRzgqYoN"
      }
    },
    {
      "cell_type": "code",
      "source": [
        "## imports\n",
        "from dspy import InputField, OutputField\n",
        "\n",
        "## Define custom MultiClass Signature\n",
        "class MultiClass(Signature):\n",
        "  ## 1. Task for LLM in docstring\n",
        "  \"\"\"\n",
        "  Classify the given data into Sexism, Racism, Ageism, or Ableism.\n",
        "  \"\"\"\n",
        "  ## 2. input field\n",
        "  sentence = InputField(desc=\"data to be classified\")\n",
        "  ## 3. output field (data_type)\n",
        "  data_type = OutputField(desc=\"falls in one of categories\")"
      ],
      "metadata": {
        "id": "XA-bmd1zqbLR"
      },
      "execution_count": 37,
      "outputs": []
    },
    {
      "cell_type": "code",
      "source": [
        "## now we can show our custom class\n",
        "pred_multi_class = Predict(MultiClass)\n",
        "print(pred_multi_class)"
      ],
      "metadata": {
        "colab": {
          "base_uri": "https://localhost:8080/",
          "height": 133
        },
        "id": "Aa3BW-27rn6Y",
        "outputId": "fca46e26-34b8-4941-8c01-d67b4af65089"
      },
      "execution_count": 38,
      "outputs": [
        {
          "output_type": "display_data",
          "data": {
            "text/plain": [
              "\u001b[1;35mPredict\u001b[0m\u001b[1m(\u001b[0m\u001b[1;35mMultiClass\u001b[0m\u001b[1m(\u001b[0msentence -> data_type\n",
              "    \u001b[33minstructions\u001b[0m=\u001b[32m'Classify the given data into Sexism, Racism, Ageism, or Ableism.'\u001b[0m\n",
              "    sentence = \u001b[1;35mField\u001b[0m\u001b[1m(\u001b[0m\u001b[33mannotation\u001b[0m=\u001b[35mstr\u001b[0m \u001b[33mrequired\u001b[0m=\u001b[3;92mTrue\u001b[0m \u001b[33mjson_schema_extra\u001b[0m=\u001b[1m{\u001b[0m\u001b[32m'desc'\u001b[0m: \u001b[32m'data to be classified'\u001b[0m, \n",
              "\u001b[32m'__dspy_field_type'\u001b[0m: \u001b[32m'input'\u001b[0m, \u001b[32m'prefix'\u001b[0m: \u001b[32m'Sentence:'\u001b[0m\u001b[1m}\u001b[0m\u001b[1m)\u001b[0m\n",
              "    data_type = \u001b[1;35mField\u001b[0m\u001b[1m(\u001b[0m\u001b[33mannotation\u001b[0m=\u001b[35mstr\u001b[0m \u001b[33mrequired\u001b[0m=\u001b[3;92mTrue\u001b[0m \u001b[33mjson_schema_extra\u001b[0m=\u001b[1m{\u001b[0m\u001b[32m'desc'\u001b[0m: \u001b[32m'falls in one of categories'\u001b[0m, \n",
              "\u001b[32m'__dspy_field_type'\u001b[0m: \u001b[32m'output'\u001b[0m, \u001b[32m'prefix'\u001b[0m: \u001b[32m'Data Type:'\u001b[0m\u001b[1m}\u001b[0m\u001b[1m)\u001b[0m\n",
              "\u001b[1m)\u001b[0m\u001b[1m)\u001b[0m\n"
            ],
            "text/html": [
              "<pre style=\"white-space:pre;overflow-x:auto;line-height:normal;font-family:Menlo,'DejaVu Sans Mono',consolas,'Courier New',monospace\"><span style=\"color: #800080; text-decoration-color: #800080; font-weight: bold\">Predict</span><span style=\"font-weight: bold\">(</span><span style=\"color: #800080; text-decoration-color: #800080; font-weight: bold\">MultiClass</span><span style=\"font-weight: bold\">(</span>sentence -&gt; data_type\n",
              "    <span style=\"color: #808000; text-decoration-color: #808000\">instructions</span>=<span style=\"color: #008000; text-decoration-color: #008000\">'Classify the given data into Sexism, Racism, Ageism, or Ableism.'</span>\n",
              "    sentence = <span style=\"color: #800080; text-decoration-color: #800080; font-weight: bold\">Field</span><span style=\"font-weight: bold\">(</span><span style=\"color: #808000; text-decoration-color: #808000\">annotation</span>=<span style=\"color: #800080; text-decoration-color: #800080\">str</span> <span style=\"color: #808000; text-decoration-color: #808000\">required</span>=<span style=\"color: #00ff00; text-decoration-color: #00ff00; font-style: italic\">True</span> <span style=\"color: #808000; text-decoration-color: #808000\">json_schema_extra</span>=<span style=\"font-weight: bold\">{</span><span style=\"color: #008000; text-decoration-color: #008000\">'desc'</span>: <span style=\"color: #008000; text-decoration-color: #008000\">'data to be classified'</span>, \n",
              "<span style=\"color: #008000; text-decoration-color: #008000\">'__dspy_field_type'</span>: <span style=\"color: #008000; text-decoration-color: #008000\">'input'</span>, <span style=\"color: #008000; text-decoration-color: #008000\">'prefix'</span>: <span style=\"color: #008000; text-decoration-color: #008000\">'Sentence:'</span><span style=\"font-weight: bold\">})</span>\n",
              "    data_type = <span style=\"color: #800080; text-decoration-color: #800080; font-weight: bold\">Field</span><span style=\"font-weight: bold\">(</span><span style=\"color: #808000; text-decoration-color: #808000\">annotation</span>=<span style=\"color: #800080; text-decoration-color: #800080\">str</span> <span style=\"color: #808000; text-decoration-color: #808000\">required</span>=<span style=\"color: #00ff00; text-decoration-color: #00ff00; font-style: italic\">True</span> <span style=\"color: #808000; text-decoration-color: #808000\">json_schema_extra</span>=<span style=\"font-weight: bold\">{</span><span style=\"color: #008000; text-decoration-color: #008000\">'desc'</span>: <span style=\"color: #008000; text-decoration-color: #008000\">'falls in one of categories'</span>, \n",
              "<span style=\"color: #008000; text-decoration-color: #008000\">'__dspy_field_type'</span>: <span style=\"color: #008000; text-decoration-color: #008000\">'output'</span>, <span style=\"color: #008000; text-decoration-color: #008000\">'prefix'</span>: <span style=\"color: #008000; text-decoration-color: #008000\">'Data Type:'</span><span style=\"font-weight: bold\">})</span>\n",
              "<span style=\"font-weight: bold\">))</span>\n",
              "</pre>\n"
            ]
          },
          "metadata": {}
        }
      ]
    },
    {
      "cell_type": "markdown",
      "source": [
        "## 2. Create synthetic data"
      ],
      "metadata": {
        "id": "TX9M_UZ5qjNS"
      }
    },
    {
      "cell_type": "code",
      "source": [
        "## create synthetic json data\n",
        "synth_json_data = Predict('required_data -> json_output')\n",
        "\n",
        "## prompt to create synthetic data\n",
        "synth_prompt = \"Provide one example of sexism, racism, ageism and ableism.\"\n",
        "\n",
        "## get JSON output\n",
        "with context(lm=llm):\n",
        "  resp = synth_json_data(required_data=synth_prompt)\n",
        "  print(resp)"
      ],
      "metadata": {
        "colab": {
          "base_uri": "https://localhost:8080/",
          "height": 166
        },
        "outputId": "a5045cc7-5a82-403b-9693-f8ce0541e461",
        "id": "M5gCl-htq6Wg"
      },
      "execution_count": 39,
      "outputs": [
        {
          "output_type": "display_data",
          "data": {
            "text/plain": [
              "\u001b[1;35mPrediction\u001b[0m\u001b[1m(\u001b[0m\n",
              "    \u001b[33mjson_output\u001b[0m=\u001b[32m'\u001b[0m\u001b[32m{\u001b[0m\u001b[32m\\n  \"sexism\": \"A woman is passed over for a promotion in favor of a less qualified male \u001b[0m\n",
              "\u001b[32mcolleague, despite having more experience and better performance reviews.\",\\n  \"racism\": \"A person of color is \u001b[0m\n",
              "\u001b[32mfollowed around in a store by security, while white customers are not subjected to the same scrutiny.\",\\n  \u001b[0m\n",
              "\u001b[32m\"ageism\": \"An older employee is laid off because the company believes younger workers are more adaptable and \u001b[0m\n",
              "\u001b[32mtech-savvy, despite the older employee\\'s proven track record.\",\\n  \"ableism\": \"A job listing specifies that \u001b[0m\n",
              "\u001b[32mcandidates must be able to walk long distances, effectively excluding individuals with mobility impairments from \u001b[0m\n",
              "\u001b[32mapplying.\"\\n\u001b[0m\u001b[32m}\u001b[0m\u001b[32m'\u001b[0m\n",
              "\u001b[1m)\u001b[0m\n"
            ],
            "text/html": [
              "<pre style=\"white-space:pre;overflow-x:auto;line-height:normal;font-family:Menlo,'DejaVu Sans Mono',consolas,'Courier New',monospace\"><span style=\"color: #800080; text-decoration-color: #800080; font-weight: bold\">Prediction</span><span style=\"font-weight: bold\">(</span>\n",
              "    <span style=\"color: #808000; text-decoration-color: #808000\">json_output</span>=<span style=\"color: #008000; text-decoration-color: #008000\">'{\\n  \"sexism\": \"A woman is passed over for a promotion in favor of a less qualified male </span>\n",
              "<span style=\"color: #008000; text-decoration-color: #008000\">colleague, despite having more experience and better performance reviews.\",\\n  \"racism\": \"A person of color is </span>\n",
              "<span style=\"color: #008000; text-decoration-color: #008000\">followed around in a store by security, while white customers are not subjected to the same scrutiny.\",\\n  </span>\n",
              "<span style=\"color: #008000; text-decoration-color: #008000\">\"ageism\": \"An older employee is laid off because the company believes younger workers are more adaptable and </span>\n",
              "<span style=\"color: #008000; text-decoration-color: #008000\">tech-savvy, despite the older employee\\'s proven track record.\",\\n  \"ableism\": \"A job listing specifies that </span>\n",
              "<span style=\"color: #008000; text-decoration-color: #008000\">candidates must be able to walk long distances, effectively excluding individuals with mobility impairments from </span>\n",
              "<span style=\"color: #008000; text-decoration-color: #008000\">applying.\"\\n}'</span>\n",
              "<span style=\"font-weight: bold\">)</span>\n",
              "</pre>\n"
            ]
          },
          "metadata": {}
        }
      ]
    },
    {
      "cell_type": "code",
      "source": [
        "## lets analyze the synthetic json data\n",
        "import json\n",
        "\n",
        "## load synth data\n",
        "synth_data = json.loads(resp.json_output)\n",
        "synth_data"
      ],
      "metadata": {
        "colab": {
          "base_uri": "https://localhost:8080/"
        },
        "id": "RJynEBXErDic",
        "outputId": "9518cbcf-8132-46b9-9ab6-d41345beb651"
      },
      "execution_count": 40,
      "outputs": [
        {
          "output_type": "execute_result",
          "data": {
            "text/plain": [
              "{'sexism': 'A woman is passed over for a promotion in favor of a less qualified male colleague, despite having more experience and better performance reviews.',\n",
              " 'racism': 'A person of color is followed around in a store by security, while white customers are not subjected to the same scrutiny.',\n",
              " 'ageism': \"An older employee is laid off because the company believes younger workers are more adaptable and tech-savvy, despite the older employee's proven track record.\",\n",
              " 'ableism': 'A job listing specifies that candidates must be able to walk long distances, effectively excluding individuals with mobility impairments from applying.'}"
            ]
          },
          "metadata": {},
          "execution_count": 40
        }
      ]
    },
    {
      "cell_type": "markdown",
      "source": [
        "## 3. Multiclass Classification with Signature\n",
        "* Lets test out the classifer with DSPy."
      ],
      "metadata": {
        "id": "yGLPV4RbrOv5"
      }
    },
    {
      "cell_type": "code",
      "source": [
        "## classify using custom Signature MultiClass\n",
        "with context(lm=llm):\n",
        "  for vals in synth_data.values():\n",
        "    print(\"Classifying: \", vals)\n",
        "    class_result = pred_multi_class(sentence=vals) ## sentence\n",
        "    print(\"Predicted class: \", class_result.data_type) ## dtype"
      ],
      "metadata": {
        "colab": {
          "base_uri": "https://localhost:8080/",
          "height": 215
        },
        "outputId": "adc558cf-fa1b-407f-f8d0-a6a619ef0fba",
        "id": "_s1tl55FrW8r"
      },
      "execution_count": 41,
      "outputs": [
        {
          "output_type": "display_data",
          "data": {
            "text/plain": [
              "Classifying:  A woman is passed over for a promotion in favor of a less qualified male colleague, despite having \n",
              "more experience and better performance reviews.\n"
            ],
            "text/html": [
              "<pre style=\"white-space:pre;overflow-x:auto;line-height:normal;font-family:Menlo,'DejaVu Sans Mono',consolas,'Courier New',monospace\">Classifying:  A woman is passed over for a promotion in favor of a less qualified male colleague, despite having \n",
              "more experience and better performance reviews.\n",
              "</pre>\n"
            ]
          },
          "metadata": {}
        },
        {
          "output_type": "display_data",
          "data": {
            "text/plain": [
              "Predicted class:  Sexism\n"
            ],
            "text/html": [
              "<pre style=\"white-space:pre;overflow-x:auto;line-height:normal;font-family:Menlo,'DejaVu Sans Mono',consolas,'Courier New',monospace\">Predicted class:  Sexism\n",
              "</pre>\n"
            ]
          },
          "metadata": {}
        },
        {
          "output_type": "display_data",
          "data": {
            "text/plain": [
              "Classifying:  A person of color is followed around in a store by security, while white customers are not subjected \n",
              "to the same scrutiny.\n"
            ],
            "text/html": [
              "<pre style=\"white-space:pre;overflow-x:auto;line-height:normal;font-family:Menlo,'DejaVu Sans Mono',consolas,'Courier New',monospace\">Classifying:  A person of color is followed around in a store by security, while white customers are not subjected \n",
              "to the same scrutiny.\n",
              "</pre>\n"
            ]
          },
          "metadata": {}
        },
        {
          "output_type": "display_data",
          "data": {
            "text/plain": [
              "Predicted class:  Racism\n"
            ],
            "text/html": [
              "<pre style=\"white-space:pre;overflow-x:auto;line-height:normal;font-family:Menlo,'DejaVu Sans Mono',consolas,'Courier New',monospace\">Predicted class:  Racism\n",
              "</pre>\n"
            ]
          },
          "metadata": {}
        },
        {
          "output_type": "display_data",
          "data": {
            "text/plain": [
              "Classifying:  An older employee is laid off because the company believes younger workers are more adaptable and \n",
              "tech-savvy, despite the older employee's proven track record.\n"
            ],
            "text/html": [
              "<pre style=\"white-space:pre;overflow-x:auto;line-height:normal;font-family:Menlo,'DejaVu Sans Mono',consolas,'Courier New',monospace\">Classifying:  An older employee is laid off because the company believes younger workers are more adaptable and \n",
              "tech-savvy, despite the older employee's proven track record.\n",
              "</pre>\n"
            ]
          },
          "metadata": {}
        },
        {
          "output_type": "display_data",
          "data": {
            "text/plain": [
              "Predicted class:  Ageism\n"
            ],
            "text/html": [
              "<pre style=\"white-space:pre;overflow-x:auto;line-height:normal;font-family:Menlo,'DejaVu Sans Mono',consolas,'Courier New',monospace\">Predicted class:  Ageism\n",
              "</pre>\n"
            ]
          },
          "metadata": {}
        },
        {
          "output_type": "display_data",
          "data": {
            "text/plain": [
              "Classifying:  A job listing specifies that candidates must be able to walk long distances, effectively excluding \n",
              "individuals with mobility impairments from applying.\n"
            ],
            "text/html": [
              "<pre style=\"white-space:pre;overflow-x:auto;line-height:normal;font-family:Menlo,'DejaVu Sans Mono',consolas,'Courier New',monospace\">Classifying:  A job listing specifies that candidates must be able to walk long distances, effectively excluding \n",
              "individuals with mobility impairments from applying.\n",
              "</pre>\n"
            ]
          },
          "metadata": {}
        },
        {
          "output_type": "display_data",
          "data": {
            "text/plain": [
              "Predicted class:  Ableism\n"
            ],
            "text/html": [
              "<pre style=\"white-space:pre;overflow-x:auto;line-height:normal;font-family:Menlo,'DejaVu Sans Mono',consolas,'Courier New',monospace\">Predicted class:  Ableism\n",
              "</pre>\n"
            ]
          },
          "metadata": {}
        }
      ]
    },
    {
      "cell_type": "code",
      "source": [],
      "metadata": {
        "id": "FXS566VItNWC"
      },
      "execution_count": null,
      "outputs": []
    }
  ]
}